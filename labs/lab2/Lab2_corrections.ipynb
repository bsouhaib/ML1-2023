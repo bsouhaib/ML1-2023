{
 "cells": [
  {
   "attachments": {},
   "cell_type": "markdown",
   "metadata": {
    "id": "dzNng6vCL9eP"
   },
   "source": [
    "# Machine Learning 2022-2023 - UMONS \n",
    "# Exploratory Data Analysis of the Pokemon dataset\n"
   ]
  },
  {
   "attachments": {},
   "cell_type": "markdown",
   "metadata": {},
   "source": [
    "The goal of the lab is to get more familiar with the Pandas library in Python, which will allow you to manipulate dataframes, compute the statistics of its variables, and visualize them. Data exploration is an important step before using any of the Machine Learning model that you'll discover through the course. It will grant you a deeper understanding of the content of the dataset, which will ease any a posteriori manipulation.   \n",
    "\n",
    "In this lab, we'll work with the 'Pokemon' dataset, which contains the attributes of several Pokemon across various generations:\n",
    "- #: ID for each pokemon\n",
    "- Name: Name of each pokemon\n",
    "- Type 1: Each pokemon has a type, this determines weakness/resistance to attacks\n",
    "- Type 2: Some pokemon are dual type and have 2\n",
    "- Total: sum of all stats that come after this, a general guide to how strong a pokemon is\n",
    "- HP: hit points, or health, defines how much damage a pokemon can withstand before fainting\n",
    "- Attack: the base modifier for normal attacks (eg. Scratch, Punch)\n",
    "- Defense: the base damage resistance against normal attacks\n",
    "- SP Atk: special attack, the base modifier for special attacks (e.g. fire blast, bubble beam)\n",
    "- SP Def: the base damage resistance against special attacks\n",
    "- Speed: determines which pokemon attacks first each round"
   ]
  },
  {
   "attachments": {},
   "cell_type": "markdown",
   "metadata": {},
   "source": [
    "**1. Import all necessary libraries**"
   ]
  },
  {
   "cell_type": "code",
   "execution_count": 1,
   "metadata": {
    "id": "dU4S-rek_gQe"
   },
   "outputs": [],
   "source": [
    "import matplotlib.pyplot as plt  # importing all the important packages\n",
    "import numpy as np\n",
    "import pandas as pd\n",
    "import seaborn as sns\n",
    "\n",
    "plt.style.use('fivethirtyeight')"
   ]
  },
  {
   "attachments": {},
   "cell_type": "markdown",
   "metadata": {},
   "source": [
    "**2.Read the csv file 'Pokemon.csv' and load it into a Dataframe. Print the 10 first rows.** "
   ]
  },
  {
   "cell_type": "code",
   "execution_count": 2,
   "metadata": {
    "colab": {
     "base_uri": "https://localhost:8080/",
     "height": 363
    },
    "id": "hsFUdKmC_gQf",
    "outputId": "05723cd3-5387-44f9-d7ae-c10b97d3491d"
   },
   "outputs": [
    {
     "data": {
      "text/html": [
       "<div>\n",
       "<style scoped>\n",
       "    .dataframe tbody tr th:only-of-type {\n",
       "        vertical-align: middle;\n",
       "    }\n",
       "\n",
       "    .dataframe tbody tr th {\n",
       "        vertical-align: top;\n",
       "    }\n",
       "\n",
       "    .dataframe thead th {\n",
       "        text-align: right;\n",
       "    }\n",
       "</style>\n",
       "<table border=\"1\" class=\"dataframe\">\n",
       "  <thead>\n",
       "    <tr style=\"text-align: right;\">\n",
       "      <th></th>\n",
       "      <th>#</th>\n",
       "      <th>Name</th>\n",
       "      <th>Type 1</th>\n",
       "      <th>Type 2</th>\n",
       "      <th>Total</th>\n",
       "      <th>HP</th>\n",
       "      <th>Attack</th>\n",
       "      <th>Defense</th>\n",
       "      <th>Sp. Atk</th>\n",
       "      <th>Sp. Def</th>\n",
       "      <th>Speed</th>\n",
       "      <th>Generation</th>\n",
       "      <th>Legendary</th>\n",
       "    </tr>\n",
       "  </thead>\n",
       "  <tbody>\n",
       "    <tr>\n",
       "      <th>0</th>\n",
       "      <td>1</td>\n",
       "      <td>Bulbasaur</td>\n",
       "      <td>Grass</td>\n",
       "      <td>Poison</td>\n",
       "      <td>318</td>\n",
       "      <td>45</td>\n",
       "      <td>49</td>\n",
       "      <td>49</td>\n",
       "      <td>65</td>\n",
       "      <td>65</td>\n",
       "      <td>45</td>\n",
       "      <td>1</td>\n",
       "      <td>False</td>\n",
       "    </tr>\n",
       "    <tr>\n",
       "      <th>1</th>\n",
       "      <td>2</td>\n",
       "      <td>Ivysaur</td>\n",
       "      <td>Grass</td>\n",
       "      <td>Poison</td>\n",
       "      <td>405</td>\n",
       "      <td>60</td>\n",
       "      <td>62</td>\n",
       "      <td>63</td>\n",
       "      <td>80</td>\n",
       "      <td>80</td>\n",
       "      <td>60</td>\n",
       "      <td>1</td>\n",
       "      <td>False</td>\n",
       "    </tr>\n",
       "    <tr>\n",
       "      <th>2</th>\n",
       "      <td>3</td>\n",
       "      <td>Venusaur</td>\n",
       "      <td>Grass</td>\n",
       "      <td>Poison</td>\n",
       "      <td>525</td>\n",
       "      <td>80</td>\n",
       "      <td>82</td>\n",
       "      <td>83</td>\n",
       "      <td>100</td>\n",
       "      <td>100</td>\n",
       "      <td>80</td>\n",
       "      <td>1</td>\n",
       "      <td>False</td>\n",
       "    </tr>\n",
       "    <tr>\n",
       "      <th>3</th>\n",
       "      <td>3</td>\n",
       "      <td>VenusaurMega Venusaur</td>\n",
       "      <td>Grass</td>\n",
       "      <td>Poison</td>\n",
       "      <td>625</td>\n",
       "      <td>80</td>\n",
       "      <td>100</td>\n",
       "      <td>123</td>\n",
       "      <td>122</td>\n",
       "      <td>120</td>\n",
       "      <td>80</td>\n",
       "      <td>1</td>\n",
       "      <td>False</td>\n",
       "    </tr>\n",
       "    <tr>\n",
       "      <th>4</th>\n",
       "      <td>4</td>\n",
       "      <td>Charmander</td>\n",
       "      <td>Fire</td>\n",
       "      <td>NaN</td>\n",
       "      <td>309</td>\n",
       "      <td>39</td>\n",
       "      <td>52</td>\n",
       "      <td>43</td>\n",
       "      <td>60</td>\n",
       "      <td>50</td>\n",
       "      <td>65</td>\n",
       "      <td>1</td>\n",
       "      <td>False</td>\n",
       "    </tr>\n",
       "    <tr>\n",
       "      <th>5</th>\n",
       "      <td>5</td>\n",
       "      <td>Charmeleon</td>\n",
       "      <td>Fire</td>\n",
       "      <td>NaN</td>\n",
       "      <td>405</td>\n",
       "      <td>58</td>\n",
       "      <td>64</td>\n",
       "      <td>58</td>\n",
       "      <td>80</td>\n",
       "      <td>65</td>\n",
       "      <td>80</td>\n",
       "      <td>1</td>\n",
       "      <td>False</td>\n",
       "    </tr>\n",
       "    <tr>\n",
       "      <th>6</th>\n",
       "      <td>6</td>\n",
       "      <td>Charizard</td>\n",
       "      <td>Fire</td>\n",
       "      <td>Flying</td>\n",
       "      <td>534</td>\n",
       "      <td>78</td>\n",
       "      <td>84</td>\n",
       "      <td>78</td>\n",
       "      <td>109</td>\n",
       "      <td>85</td>\n",
       "      <td>100</td>\n",
       "      <td>1</td>\n",
       "      <td>False</td>\n",
       "    </tr>\n",
       "    <tr>\n",
       "      <th>7</th>\n",
       "      <td>6</td>\n",
       "      <td>CharizardMega Charizard X</td>\n",
       "      <td>Fire</td>\n",
       "      <td>Dragon</td>\n",
       "      <td>634</td>\n",
       "      <td>78</td>\n",
       "      <td>130</td>\n",
       "      <td>111</td>\n",
       "      <td>130</td>\n",
       "      <td>85</td>\n",
       "      <td>100</td>\n",
       "      <td>1</td>\n",
       "      <td>False</td>\n",
       "    </tr>\n",
       "    <tr>\n",
       "      <th>8</th>\n",
       "      <td>6</td>\n",
       "      <td>CharizardMega Charizard Y</td>\n",
       "      <td>Fire</td>\n",
       "      <td>Flying</td>\n",
       "      <td>634</td>\n",
       "      <td>78</td>\n",
       "      <td>104</td>\n",
       "      <td>78</td>\n",
       "      <td>159</td>\n",
       "      <td>115</td>\n",
       "      <td>100</td>\n",
       "      <td>1</td>\n",
       "      <td>False</td>\n",
       "    </tr>\n",
       "    <tr>\n",
       "      <th>9</th>\n",
       "      <td>7</td>\n",
       "      <td>Squirtle</td>\n",
       "      <td>Water</td>\n",
       "      <td>NaN</td>\n",
       "      <td>314</td>\n",
       "      <td>44</td>\n",
       "      <td>48</td>\n",
       "      <td>65</td>\n",
       "      <td>50</td>\n",
       "      <td>64</td>\n",
       "      <td>43</td>\n",
       "      <td>1</td>\n",
       "      <td>False</td>\n",
       "    </tr>\n",
       "  </tbody>\n",
       "</table>\n",
       "</div>"
      ],
      "text/plain": [
       "   #                       Name Type 1  Type 2  Total  HP  Attack  Defense  \\\n",
       "0  1                  Bulbasaur  Grass  Poison    318  45      49       49   \n",
       "1  2                    Ivysaur  Grass  Poison    405  60      62       63   \n",
       "2  3                   Venusaur  Grass  Poison    525  80      82       83   \n",
       "3  3      VenusaurMega Venusaur  Grass  Poison    625  80     100      123   \n",
       "4  4                 Charmander   Fire     NaN    309  39      52       43   \n",
       "5  5                 Charmeleon   Fire     NaN    405  58      64       58   \n",
       "6  6                  Charizard   Fire  Flying    534  78      84       78   \n",
       "7  6  CharizardMega Charizard X   Fire  Dragon    634  78     130      111   \n",
       "8  6  CharizardMega Charizard Y   Fire  Flying    634  78     104       78   \n",
       "9  7                   Squirtle  Water     NaN    314  44      48       65   \n",
       "\n",
       "   Sp. Atk  Sp. Def  Speed  Generation  Legendary  \n",
       "0       65       65     45           1      False  \n",
       "1       80       80     60           1      False  \n",
       "2      100      100     80           1      False  \n",
       "3      122      120     80           1      False  \n",
       "4       60       50     65           1      False  \n",
       "5       80       65     80           1      False  \n",
       "6      109       85    100           1      False  \n",
       "7      130       85    100           1      False  \n",
       "8      159      115    100           1      False  \n",
       "9       50       64     43           1      False  "
      ]
     },
     "execution_count": 2,
     "metadata": {},
     "output_type": "execute_result"
    }
   ],
   "source": [
    "df = pd.read_csv('data/Pokemon.csv')\n",
    "df.head(n=10)"
   ]
  },
  {
   "attachments": {},
   "cell_type": "markdown",
   "metadata": {
    "id": "eLriTZtKBDTP"
   },
   "source": [
    "**3. Print the general information of the Pokemon dataset.** "
   ]
  },
  {
   "cell_type": "code",
   "execution_count": 3,
   "metadata": {
    "colab": {
     "base_uri": "https://localhost:8080/"
    },
    "id": "yv1vhgCkAepn",
    "outputId": "50fb7dfd-8b26-4566-cd2d-723730fc1cf3"
   },
   "outputs": [
    {
     "name": "stdout",
     "output_type": "stream",
     "text": [
      "<class 'pandas.core.frame.DataFrame'>\n",
      "RangeIndex: 800 entries, 0 to 799\n",
      "Data columns (total 13 columns):\n",
      " #   Column      Non-Null Count  Dtype \n",
      "---  ------      --------------  ----- \n",
      " 0   #           800 non-null    int64 \n",
      " 1   Name        800 non-null    object\n",
      " 2   Type 1      800 non-null    object\n",
      " 3   Type 2      414 non-null    object\n",
      " 4   Total       800 non-null    int64 \n",
      " 5   HP          800 non-null    int64 \n",
      " 6   Attack      800 non-null    int64 \n",
      " 7   Defense     800 non-null    int64 \n",
      " 8   Sp. Atk     800 non-null    int64 \n",
      " 9   Sp. Def     800 non-null    int64 \n",
      " 10  Speed       800 non-null    int64 \n",
      " 11  Generation  800 non-null    int64 \n",
      " 12  Legendary   800 non-null    bool  \n",
      "dtypes: bool(1), int64(9), object(3)\n",
      "memory usage: 75.9+ KB\n"
     ]
    }
   ],
   "source": [
    "df.info()"
   ]
  },
  {
   "attachments": {},
   "cell_type": "markdown",
   "metadata": {
    "id": "s1pHx3oR6w5G"
   },
   "source": [
    "**4. Get the shape of the dataframe.** "
   ]
  },
  {
   "cell_type": "code",
   "execution_count": 4,
   "metadata": {
    "colab": {
     "base_uri": "https://localhost:8080/"
    },
    "id": "XVRlqBq2_gQh",
    "outputId": "85424ccb-868e-4f46-b4f7-f762a5a73c13"
   },
   "outputs": [
    {
     "data": {
      "text/plain": [
       "(800, 13)"
      ]
     },
     "execution_count": 4,
     "metadata": {},
     "output_type": "execute_result"
    }
   ],
   "source": [
    "df.shape"
   ]
  },
  {
   "attachments": {},
   "cell_type": "markdown",
   "metadata": {
    "id": "VuqDhanYR0v4"
   },
   "source": [
    "**5. Drop the \"#' column and set the dataframe index to the 'Name' column.**"
   ]
  },
  {
   "cell_type": "code",
   "execution_count": 5,
   "metadata": {
    "colab": {
     "base_uri": "https://localhost:8080/",
     "height": 238
    },
    "id": "nr5scIgK_gQi",
    "outputId": "ad876841-fc3f-430d-f3a7-6c2a11eff76c"
   },
   "outputs": [
    {
     "data": {
      "text/html": [
       "<div>\n",
       "<style scoped>\n",
       "    .dataframe tbody tr th:only-of-type {\n",
       "        vertical-align: middle;\n",
       "    }\n",
       "\n",
       "    .dataframe tbody tr th {\n",
       "        vertical-align: top;\n",
       "    }\n",
       "\n",
       "    .dataframe thead th {\n",
       "        text-align: right;\n",
       "    }\n",
       "</style>\n",
       "<table border=\"1\" class=\"dataframe\">\n",
       "  <thead>\n",
       "    <tr style=\"text-align: right;\">\n",
       "      <th></th>\n",
       "      <th>Type 1</th>\n",
       "      <th>Type 2</th>\n",
       "      <th>Total</th>\n",
       "      <th>HP</th>\n",
       "      <th>Attack</th>\n",
       "      <th>Defense</th>\n",
       "      <th>Sp. Atk</th>\n",
       "      <th>Sp. Def</th>\n",
       "      <th>Speed</th>\n",
       "      <th>Generation</th>\n",
       "      <th>Legendary</th>\n",
       "    </tr>\n",
       "    <tr>\n",
       "      <th>Name</th>\n",
       "      <th></th>\n",
       "      <th></th>\n",
       "      <th></th>\n",
       "      <th></th>\n",
       "      <th></th>\n",
       "      <th></th>\n",
       "      <th></th>\n",
       "      <th></th>\n",
       "      <th></th>\n",
       "      <th></th>\n",
       "      <th></th>\n",
       "    </tr>\n",
       "  </thead>\n",
       "  <tbody>\n",
       "    <tr>\n",
       "      <th>Bulbasaur</th>\n",
       "      <td>Grass</td>\n",
       "      <td>Poison</td>\n",
       "      <td>318</td>\n",
       "      <td>45</td>\n",
       "      <td>49</td>\n",
       "      <td>49</td>\n",
       "      <td>65</td>\n",
       "      <td>65</td>\n",
       "      <td>45</td>\n",
       "      <td>1</td>\n",
       "      <td>False</td>\n",
       "    </tr>\n",
       "    <tr>\n",
       "      <th>Ivysaur</th>\n",
       "      <td>Grass</td>\n",
       "      <td>Poison</td>\n",
       "      <td>405</td>\n",
       "      <td>60</td>\n",
       "      <td>62</td>\n",
       "      <td>63</td>\n",
       "      <td>80</td>\n",
       "      <td>80</td>\n",
       "      <td>60</td>\n",
       "      <td>1</td>\n",
       "      <td>False</td>\n",
       "    </tr>\n",
       "    <tr>\n",
       "      <th>Venusaur</th>\n",
       "      <td>Grass</td>\n",
       "      <td>Poison</td>\n",
       "      <td>525</td>\n",
       "      <td>80</td>\n",
       "      <td>82</td>\n",
       "      <td>83</td>\n",
       "      <td>100</td>\n",
       "      <td>100</td>\n",
       "      <td>80</td>\n",
       "      <td>1</td>\n",
       "      <td>False</td>\n",
       "    </tr>\n",
       "    <tr>\n",
       "      <th>VenusaurMega Venusaur</th>\n",
       "      <td>Grass</td>\n",
       "      <td>Poison</td>\n",
       "      <td>625</td>\n",
       "      <td>80</td>\n",
       "      <td>100</td>\n",
       "      <td>123</td>\n",
       "      <td>122</td>\n",
       "      <td>120</td>\n",
       "      <td>80</td>\n",
       "      <td>1</td>\n",
       "      <td>False</td>\n",
       "    </tr>\n",
       "    <tr>\n",
       "      <th>Charmander</th>\n",
       "      <td>Fire</td>\n",
       "      <td>NaN</td>\n",
       "      <td>309</td>\n",
       "      <td>39</td>\n",
       "      <td>52</td>\n",
       "      <td>43</td>\n",
       "      <td>60</td>\n",
       "      <td>50</td>\n",
       "      <td>65</td>\n",
       "      <td>1</td>\n",
       "      <td>False</td>\n",
       "    </tr>\n",
       "  </tbody>\n",
       "</table>\n",
       "</div>"
      ],
      "text/plain": [
       "                      Type 1  Type 2  Total  HP  Attack  Defense  Sp. Atk  \\\n",
       "Name                                                                        \n",
       "Bulbasaur              Grass  Poison    318  45      49       49       65   \n",
       "Ivysaur                Grass  Poison    405  60      62       63       80   \n",
       "Venusaur               Grass  Poison    525  80      82       83      100   \n",
       "VenusaurMega Venusaur  Grass  Poison    625  80     100      123      122   \n",
       "Charmander              Fire     NaN    309  39      52       43       60   \n",
       "\n",
       "                       Sp. Def  Speed  Generation  Legendary  \n",
       "Name                                                          \n",
       "Bulbasaur                   65     45           1      False  \n",
       "Ivysaur                     80     60           1      False  \n",
       "Venusaur                   100     80           1      False  \n",
       "VenusaurMega Venusaur      120     80           1      False  \n",
       "Charmander                  50     65           1      False  "
      ]
     },
     "execution_count": 5,
     "metadata": {},
     "output_type": "execute_result"
    }
   ],
   "source": [
    "df.drop(['#'], axis=1, inplace=True)  # drop the '#' column.\n",
    "df.set_index('Name', inplace=True)  # Set 'Name' as index.\n",
    "df.head()"
   ]
  },
  {
   "attachments": {},
   "cell_type": "markdown",
   "metadata": {
    "id": "DmeOC9UQaEo1"
   },
   "source": [
    "**6. Check if there are any missing values in the dataframe, and count them per column. For non numerical variables, replace the missing values by 'Unknown'. For the remaining variables, drop the complete row containing the missing value. Check that the dataframe does not contain missing values anymore.**"
   ]
  },
  {
   "cell_type": "code",
   "execution_count": 6,
   "metadata": {
    "colab": {
     "base_uri": "https://localhost:8080/"
    },
    "id": "8V7lioYdaNf9",
    "outputId": "58b810aa-a87a-4209-e3c7-03eb3360e3ce"
   },
   "outputs": [
    {
     "data": {
      "text/plain": [
       "Type 1          0\n",
       "Type 2        386\n",
       "Total           0\n",
       "HP              0\n",
       "Attack          0\n",
       "Defense         0\n",
       "Sp. Atk         0\n",
       "Sp. Def         0\n",
       "Speed           0\n",
       "Generation      0\n",
       "Legendary       0\n",
       "dtype: int64"
      ]
     },
     "execution_count": 6,
     "metadata": {},
     "output_type": "execute_result"
    }
   ],
   "source": [
    "# Count missing values\n",
    "df.isna().sum()"
   ]
  },
  {
   "cell_type": "code",
   "execution_count": 7,
   "metadata": {
    "colab": {
     "base_uri": "https://localhost:8080/"
    },
    "id": "1N41x3Lu8nAR",
    "outputId": "8269f452-2535-413c-c0a3-99b4a15d2718"
   },
   "outputs": [
    {
     "data": {
      "text/plain": [
       "Type 1        0\n",
       "Type 2        0\n",
       "Total         0\n",
       "HP            0\n",
       "Attack        0\n",
       "Defense       0\n",
       "Sp. Atk       0\n",
       "Sp. Def       0\n",
       "Speed         0\n",
       "Generation    0\n",
       "Legendary     0\n",
       "dtype: int64"
      ]
     },
     "execution_count": 7,
     "metadata": {},
     "output_type": "execute_result"
    }
   ],
   "source": [
    "# Replace missing values for the categorical variable 'Type 2' with 'Unknown'.\n",
    "df['Type 2'].fillna('Unknown', inplace=True)\n",
    "\n",
    "# Drop the complete row that contains at least one missing value for the remaining variables.\n",
    "df.dropna(axis=0, inplace=True)\n",
    "\n",
    "# Check that the dataframe does not contain any more missing values.\n",
    "assert ~df.isna().values.any()\n",
    "df.isna().sum()"
   ]
  },
  {
   "attachments": {},
   "cell_type": "markdown",
   "metadata": {
    "id": "hJiIx80ZFODG"
   },
   "source": [
    "**7. Change the data types of the variables 'Type 1' and 'Type 2' and 'Generation' to categorical data**"
   ]
  },
  {
   "cell_type": "code",
   "execution_count": 8,
   "metadata": {
    "colab": {
     "base_uri": "https://localhost:8080/"
    },
    "id": "N3QXeTJOEWp6",
    "outputId": "259240ad-95d5-485c-f110-6d9a061dde5f"
   },
   "outputs": [
    {
     "name": "stdout",
     "output_type": "stream",
     "text": [
      "<class 'pandas.core.frame.DataFrame'>\n",
      "Index: 800 entries, Bulbasaur to Volcanion\n",
      "Data columns (total 11 columns):\n",
      " #   Column      Non-Null Count  Dtype   \n",
      "---  ------      --------------  -----   \n",
      " 0   Type 1      800 non-null    category\n",
      " 1   Type 2      800 non-null    category\n",
      " 2   Total       800 non-null    int64   \n",
      " 3   HP          800 non-null    int64   \n",
      " 4   Attack      800 non-null    int64   \n",
      " 5   Defense     800 non-null    int64   \n",
      " 6   Sp. Atk     800 non-null    int64   \n",
      " 7   Sp. Def     800 non-null    int64   \n",
      " 8   Speed       800 non-null    int64   \n",
      " 9   Generation  800 non-null    category\n",
      " 10  Legendary   800 non-null    bool    \n",
      "dtypes: bool(1), category(3), int64(7)\n",
      "memory usage: 54.7+ KB\n"
     ]
    }
   ],
   "source": [
    "df = df.astype({'Type 1': 'category', 'Type 2': 'category', 'Generation': 'category'})\n",
    "df.info()"
   ]
  },
  {
   "attachments": {},
   "cell_type": "markdown",
   "metadata": {
    "id": "sfk3xosFZr3p"
   },
   "source": [
    "**8. Get general statistics (mean, standard deviation, ...) for the numerical variables of the dataset.** "
   ]
  },
  {
   "cell_type": "code",
   "execution_count": 9,
   "metadata": {
    "colab": {
     "base_uri": "https://localhost:8080/",
     "height": 300
    },
    "id": "ovW_8SlcZ1Q6",
    "outputId": "aa1d60e7-2fb7-48c8-87ef-324b8f4ca775"
   },
   "outputs": [
    {
     "data": {
      "text/html": [
       "<div>\n",
       "<style scoped>\n",
       "    .dataframe tbody tr th:only-of-type {\n",
       "        vertical-align: middle;\n",
       "    }\n",
       "\n",
       "    .dataframe tbody tr th {\n",
       "        vertical-align: top;\n",
       "    }\n",
       "\n",
       "    .dataframe thead th {\n",
       "        text-align: right;\n",
       "    }\n",
       "</style>\n",
       "<table border=\"1\" class=\"dataframe\">\n",
       "  <thead>\n",
       "    <tr style=\"text-align: right;\">\n",
       "      <th></th>\n",
       "      <th>Total</th>\n",
       "      <th>HP</th>\n",
       "      <th>Attack</th>\n",
       "      <th>Defense</th>\n",
       "      <th>Sp. Atk</th>\n",
       "      <th>Sp. Def</th>\n",
       "      <th>Speed</th>\n",
       "    </tr>\n",
       "  </thead>\n",
       "  <tbody>\n",
       "    <tr>\n",
       "      <th>count</th>\n",
       "      <td>800.00000</td>\n",
       "      <td>800.000000</td>\n",
       "      <td>800.000000</td>\n",
       "      <td>800.000000</td>\n",
       "      <td>800.000000</td>\n",
       "      <td>800.000000</td>\n",
       "      <td>800.000000</td>\n",
       "    </tr>\n",
       "    <tr>\n",
       "      <th>mean</th>\n",
       "      <td>435.10250</td>\n",
       "      <td>69.258750</td>\n",
       "      <td>79.001250</td>\n",
       "      <td>73.842500</td>\n",
       "      <td>72.820000</td>\n",
       "      <td>71.902500</td>\n",
       "      <td>68.277500</td>\n",
       "    </tr>\n",
       "    <tr>\n",
       "      <th>std</th>\n",
       "      <td>119.96304</td>\n",
       "      <td>25.534669</td>\n",
       "      <td>32.457366</td>\n",
       "      <td>31.183501</td>\n",
       "      <td>32.722294</td>\n",
       "      <td>27.828916</td>\n",
       "      <td>29.060474</td>\n",
       "    </tr>\n",
       "    <tr>\n",
       "      <th>min</th>\n",
       "      <td>180.00000</td>\n",
       "      <td>1.000000</td>\n",
       "      <td>5.000000</td>\n",
       "      <td>5.000000</td>\n",
       "      <td>10.000000</td>\n",
       "      <td>20.000000</td>\n",
       "      <td>5.000000</td>\n",
       "    </tr>\n",
       "    <tr>\n",
       "      <th>25%</th>\n",
       "      <td>330.00000</td>\n",
       "      <td>50.000000</td>\n",
       "      <td>55.000000</td>\n",
       "      <td>50.000000</td>\n",
       "      <td>49.750000</td>\n",
       "      <td>50.000000</td>\n",
       "      <td>45.000000</td>\n",
       "    </tr>\n",
       "    <tr>\n",
       "      <th>50%</th>\n",
       "      <td>450.00000</td>\n",
       "      <td>65.000000</td>\n",
       "      <td>75.000000</td>\n",
       "      <td>70.000000</td>\n",
       "      <td>65.000000</td>\n",
       "      <td>70.000000</td>\n",
       "      <td>65.000000</td>\n",
       "    </tr>\n",
       "    <tr>\n",
       "      <th>75%</th>\n",
       "      <td>515.00000</td>\n",
       "      <td>80.000000</td>\n",
       "      <td>100.000000</td>\n",
       "      <td>90.000000</td>\n",
       "      <td>95.000000</td>\n",
       "      <td>90.000000</td>\n",
       "      <td>90.000000</td>\n",
       "    </tr>\n",
       "    <tr>\n",
       "      <th>max</th>\n",
       "      <td>780.00000</td>\n",
       "      <td>255.000000</td>\n",
       "      <td>190.000000</td>\n",
       "      <td>230.000000</td>\n",
       "      <td>194.000000</td>\n",
       "      <td>230.000000</td>\n",
       "      <td>180.000000</td>\n",
       "    </tr>\n",
       "  </tbody>\n",
       "</table>\n",
       "</div>"
      ],
      "text/plain": [
       "           Total          HP      Attack     Defense     Sp. Atk     Sp. Def  \\\n",
       "count  800.00000  800.000000  800.000000  800.000000  800.000000  800.000000   \n",
       "mean   435.10250   69.258750   79.001250   73.842500   72.820000   71.902500   \n",
       "std    119.96304   25.534669   32.457366   31.183501   32.722294   27.828916   \n",
       "min    180.00000    1.000000    5.000000    5.000000   10.000000   20.000000   \n",
       "25%    330.00000   50.000000   55.000000   50.000000   49.750000   50.000000   \n",
       "50%    450.00000   65.000000   75.000000   70.000000   65.000000   70.000000   \n",
       "75%    515.00000   80.000000  100.000000   90.000000   95.000000   90.000000   \n",
       "max    780.00000  255.000000  190.000000  230.000000  194.000000  230.000000   \n",
       "\n",
       "            Speed  \n",
       "count  800.000000  \n",
       "mean    68.277500  \n",
       "std     29.060474  \n",
       "min      5.000000  \n",
       "25%     45.000000  \n",
       "50%     65.000000  \n",
       "75%     90.000000  \n",
       "max    180.000000  "
      ]
     },
     "execution_count": 9,
     "metadata": {},
     "output_type": "execute_result"
    }
   ],
   "source": [
    "df.describe()"
   ]
  },
  {
   "attachments": {},
   "cell_type": "markdown",
   "metadata": {
    "id": "wTEEsbxsatcg"
   },
   "source": [
    "**9. For the categorical variables, count the number of values per category, as well as the count of co-occurences, i.e. the times categorical variables occur simultaneously.**"
   ]
  },
  {
   "cell_type": "code",
   "execution_count": 10,
   "metadata": {
    "colab": {
     "base_uri": "https://localhost:8080/"
    },
    "id": "tLqsNREPa9rP",
    "outputId": "d792c370-2bde-4a63-ee65-99f8a55d7de6"
   },
   "outputs": [
    {
     "data": {
      "text/plain": [
       "Water       112\n",
       "Normal       98\n",
       "Grass        70\n",
       "Bug          69\n",
       "Psychic      57\n",
       "Fire         52\n",
       "Electric     44\n",
       "Rock         44\n",
       "Ghost        32\n",
       "Ground       32\n",
       "Dragon       32\n",
       "Dark         31\n",
       "Poison       28\n",
       "Fighting     27\n",
       "Steel        27\n",
       "Ice          24\n",
       "Fairy        17\n",
       "Flying        4\n",
       "Name: Type 1, dtype: int64"
      ]
     },
     "execution_count": 10,
     "metadata": {},
     "output_type": "execute_result"
    }
   ],
   "source": [
    "df['Type 1'].value_counts()"
   ]
  },
  {
   "cell_type": "code",
   "execution_count": 11,
   "metadata": {},
   "outputs": [
    {
     "data": {
      "text/plain": [
       "Unknown     386\n",
       "Flying       97\n",
       "Ground       35\n",
       "Poison       34\n",
       "Psychic      33\n",
       "Fighting     26\n",
       "Grass        25\n",
       "Fairy        23\n",
       "Steel        22\n",
       "Dark         20\n",
       "Dragon       18\n",
       "Rock         14\n",
       "Water        14\n",
       "Ice          14\n",
       "Ghost        14\n",
       "Fire         12\n",
       "Electric      6\n",
       "Normal        4\n",
       "Bug           3\n",
       "Name: Type 2, dtype: int64"
      ]
     },
     "execution_count": 11,
     "metadata": {},
     "output_type": "execute_result"
    }
   ],
   "source": [
    "df['Type 2'].value_counts()"
   ]
  },
  {
   "cell_type": "code",
   "execution_count": 12,
   "metadata": {},
   "outputs": [
    {
     "data": {
      "text/plain": [
       "1    166\n",
       "5    165\n",
       "3    160\n",
       "4    121\n",
       "2    106\n",
       "6     82\n",
       "Name: Generation, dtype: int64"
      ]
     },
     "execution_count": 12,
     "metadata": {},
     "output_type": "execute_result"
    }
   ],
   "source": [
    "df['Generation'].value_counts()"
   ]
  },
  {
   "cell_type": "code",
   "execution_count": 13,
   "metadata": {},
   "outputs": [
    {
     "data": {
      "text/plain": [
       "Type 2   Type 1  Generation\n",
       "Unknown  Water   1             19\n",
       "         Normal  3             14\n",
       "                 1             13\n",
       "                 4             12\n",
       "         Water   3             12\n",
       "                               ..\n",
       "Steel    Bug     4              1\n",
       "Rock     Water   3              1\n",
       "                 2              1\n",
       "Flying   Steel   2              1\n",
       "Bug      Poison  4              1\n",
       "Length: 293, dtype: int64"
      ]
     },
     "execution_count": 13,
     "metadata": {},
     "output_type": "execute_result"
    }
   ],
   "source": [
    "df[{'Type 1', 'Type 2', 'Generation'}].value_counts()"
   ]
  },
  {
   "attachments": {},
   "cell_type": "markdown",
   "metadata": {},
   "source": [
    "**10. Get all the attributes of 'Bulbasaur'**"
   ]
  },
  {
   "cell_type": "code",
   "execution_count": 14,
   "metadata": {
    "colab": {
     "base_uri": "https://localhost:8080/"
    },
    "id": "IHcc1OnP_gQj",
    "outputId": "5d5ec6ae-13e6-4270-82a5-f0035fc3a005"
   },
   "outputs": [
    {
     "data": {
      "text/plain": [
       "Type 1         Grass\n",
       "Type 2        Poison\n",
       "Total            318\n",
       "HP                45\n",
       "Attack            49\n",
       "Defense           49\n",
       "Sp. Atk           65\n",
       "Sp. Def           65\n",
       "Speed             45\n",
       "Generation         1\n",
       "Legendary      False\n",
       "Name: Bulbasaur, dtype: object"
      ]
     },
     "execution_count": 14,
     "metadata": {},
     "output_type": "execute_result"
    }
   ],
   "source": [
    "df.loc['Bulbasaur']"
   ]
  },
  {
   "attachments": {},
   "cell_type": "markdown",
   "metadata": {
    "id": "rnP-WJCAueWI"
   },
   "source": [
    "**11. Sort the dataframe by increasing values of 'Attack' and decreasing values of 'Defense' (i.e. if two Pokemons have the same value for 'Attack', the one with higher 'Defense' should appear first).** "
   ]
  },
  {
   "cell_type": "code",
   "execution_count": 15,
   "metadata": {
    "colab": {
     "base_uri": "https://localhost:8080/",
     "height": 238
    },
    "id": "21AqqLSNulmH",
    "outputId": "e15ed048-91d4-40b2-ec71-0b2a32b3afdf"
   },
   "outputs": [
    {
     "data": {
      "text/html": [
       "<div>\n",
       "<style scoped>\n",
       "    .dataframe tbody tr th:only-of-type {\n",
       "        vertical-align: middle;\n",
       "    }\n",
       "\n",
       "    .dataframe tbody tr th {\n",
       "        vertical-align: top;\n",
       "    }\n",
       "\n",
       "    .dataframe thead th {\n",
       "        text-align: right;\n",
       "    }\n",
       "</style>\n",
       "<table border=\"1\" class=\"dataframe\">\n",
       "  <thead>\n",
       "    <tr style=\"text-align: right;\">\n",
       "      <th></th>\n",
       "      <th>Type 1</th>\n",
       "      <th>Type 2</th>\n",
       "      <th>Total</th>\n",
       "      <th>HP</th>\n",
       "      <th>Attack</th>\n",
       "      <th>Defense</th>\n",
       "      <th>Sp. Atk</th>\n",
       "      <th>Sp. Def</th>\n",
       "      <th>Speed</th>\n",
       "      <th>Generation</th>\n",
       "      <th>Legendary</th>\n",
       "    </tr>\n",
       "    <tr>\n",
       "      <th>Name</th>\n",
       "      <th></th>\n",
       "      <th></th>\n",
       "      <th></th>\n",
       "      <th></th>\n",
       "      <th></th>\n",
       "      <th></th>\n",
       "      <th></th>\n",
       "      <th></th>\n",
       "      <th></th>\n",
       "      <th></th>\n",
       "      <th></th>\n",
       "    </tr>\n",
       "  </thead>\n",
       "  <tbody>\n",
       "    <tr>\n",
       "      <th>Chansey</th>\n",
       "      <td>Normal</td>\n",
       "      <td>Unknown</td>\n",
       "      <td>450</td>\n",
       "      <td>250</td>\n",
       "      <td>5</td>\n",
       "      <td>5</td>\n",
       "      <td>35</td>\n",
       "      <td>105</td>\n",
       "      <td>50</td>\n",
       "      <td>1</td>\n",
       "      <td>False</td>\n",
       "    </tr>\n",
       "    <tr>\n",
       "      <th>Happiny</th>\n",
       "      <td>Normal</td>\n",
       "      <td>Unknown</td>\n",
       "      <td>220</td>\n",
       "      <td>100</td>\n",
       "      <td>5</td>\n",
       "      <td>5</td>\n",
       "      <td>15</td>\n",
       "      <td>65</td>\n",
       "      <td>30</td>\n",
       "      <td>4</td>\n",
       "      <td>False</td>\n",
       "    </tr>\n",
       "    <tr>\n",
       "      <th>Shuckle</th>\n",
       "      <td>Bug</td>\n",
       "      <td>Rock</td>\n",
       "      <td>505</td>\n",
       "      <td>20</td>\n",
       "      <td>10</td>\n",
       "      <td>230</td>\n",
       "      <td>10</td>\n",
       "      <td>230</td>\n",
       "      <td>5</td>\n",
       "      <td>2</td>\n",
       "      <td>False</td>\n",
       "    </tr>\n",
       "    <tr>\n",
       "      <th>Magikarp</th>\n",
       "      <td>Water</td>\n",
       "      <td>Unknown</td>\n",
       "      <td>200</td>\n",
       "      <td>20</td>\n",
       "      <td>10</td>\n",
       "      <td>55</td>\n",
       "      <td>15</td>\n",
       "      <td>20</td>\n",
       "      <td>80</td>\n",
       "      <td>1</td>\n",
       "      <td>False</td>\n",
       "    </tr>\n",
       "    <tr>\n",
       "      <th>Blissey</th>\n",
       "      <td>Normal</td>\n",
       "      <td>Unknown</td>\n",
       "      <td>540</td>\n",
       "      <td>255</td>\n",
       "      <td>10</td>\n",
       "      <td>10</td>\n",
       "      <td>75</td>\n",
       "      <td>135</td>\n",
       "      <td>55</td>\n",
       "      <td>2</td>\n",
       "      <td>False</td>\n",
       "    </tr>\n",
       "  </tbody>\n",
       "</table>\n",
       "</div>"
      ],
      "text/plain": [
       "          Type 1   Type 2  Total   HP  Attack  Defense  Sp. Atk  Sp. Def  \\\n",
       "Name                                                                       \n",
       "Chansey   Normal  Unknown    450  250       5        5       35      105   \n",
       "Happiny   Normal  Unknown    220  100       5        5       15       65   \n",
       "Shuckle      Bug     Rock    505   20      10      230       10      230   \n",
       "Magikarp   Water  Unknown    200   20      10       55       15       20   \n",
       "Blissey   Normal  Unknown    540  255      10       10       75      135   \n",
       "\n",
       "          Speed Generation  Legendary  \n",
       "Name                                   \n",
       "Chansey      50          1      False  \n",
       "Happiny      30          4      False  \n",
       "Shuckle       5          2      False  \n",
       "Magikarp     80          1      False  \n",
       "Blissey      55          2      False  "
      ]
     },
     "execution_count": 15,
     "metadata": {},
     "output_type": "execute_result"
    }
   ],
   "source": [
    "df = df.sort_values(by=['Attack', 'Defense'], ascending=[True, False])\n",
    "df.head()"
   ]
  },
  {
   "attachments": {},
   "cell_type": "markdown",
   "metadata": {
    "id": "qxOAc1B_mDUr"
   },
   "source": [
    "**12. Create a dataframe containing all Pokemons of type 1 'Psychic' having more than 100 in 'Attack', less than 40 in 'Defense' and more than 45 in Speed.**"
   ]
  },
  {
   "cell_type": "code",
   "execution_count": 16,
   "metadata": {
    "colab": {
     "base_uri": "https://localhost:8080/",
     "height": 238
    },
    "id": "vOT7IlvPmk9L",
    "outputId": "07df5887-1887-4931-8934-c4c0a29a90e0"
   },
   "outputs": [
    {
     "data": {
      "text/html": [
       "<div>\n",
       "<style scoped>\n",
       "    .dataframe tbody tr th:only-of-type {\n",
       "        vertical-align: middle;\n",
       "    }\n",
       "\n",
       "    .dataframe tbody tr th {\n",
       "        vertical-align: top;\n",
       "    }\n",
       "\n",
       "    .dataframe thead th {\n",
       "        text-align: right;\n",
       "    }\n",
       "</style>\n",
       "<table border=\"1\" class=\"dataframe\">\n",
       "  <thead>\n",
       "    <tr style=\"text-align: right;\">\n",
       "      <th></th>\n",
       "      <th>Type 1</th>\n",
       "      <th>Type 2</th>\n",
       "      <th>Total</th>\n",
       "      <th>HP</th>\n",
       "      <th>Attack</th>\n",
       "      <th>Defense</th>\n",
       "      <th>Sp. Atk</th>\n",
       "      <th>Sp. Def</th>\n",
       "      <th>Speed</th>\n",
       "      <th>Generation</th>\n",
       "      <th>Legendary</th>\n",
       "    </tr>\n",
       "    <tr>\n",
       "      <th>Name</th>\n",
       "      <th></th>\n",
       "      <th></th>\n",
       "      <th></th>\n",
       "      <th></th>\n",
       "      <th></th>\n",
       "      <th></th>\n",
       "      <th></th>\n",
       "      <th></th>\n",
       "      <th></th>\n",
       "      <th></th>\n",
       "      <th></th>\n",
       "    </tr>\n",
       "  </thead>\n",
       "  <tbody>\n",
       "    <tr>\n",
       "      <th>DeoxysAttack Forme</th>\n",
       "      <td>Psychic</td>\n",
       "      <td>Unknown</td>\n",
       "      <td>600</td>\n",
       "      <td>50</td>\n",
       "      <td>180</td>\n",
       "      <td>20</td>\n",
       "      <td>180</td>\n",
       "      <td>20</td>\n",
       "      <td>150</td>\n",
       "      <td>3</td>\n",
       "      <td>True</td>\n",
       "    </tr>\n",
       "  </tbody>\n",
       "</table>\n",
       "</div>"
      ],
      "text/plain": [
       "                     Type 1   Type 2  Total  HP  Attack  Defense  Sp. Atk  \\\n",
       "Name                                                                        \n",
       "DeoxysAttack Forme  Psychic  Unknown    600  50     180       20      180   \n",
       "\n",
       "                    Sp. Def  Speed Generation  Legendary  \n",
       "Name                                                      \n",
       "DeoxysAttack Forme       20    150          3       True  "
      ]
     },
     "execution_count": 16,
     "metadata": {},
     "output_type": "execute_result"
    }
   ],
   "source": [
    "sub_df = df[\n",
    "    (df['Type 1'] == 'Psychic') \n",
    "    & (df['Attack'] > 100) \n",
    "    & (df['Defense'] < 40) \n",
    "    & (df['Speed'] > 45)\n",
    "]\n",
    "sub_df.head()"
   ]
  },
  {
   "attachments": {},
   "cell_type": "markdown",
   "metadata": {
    "id": "OI07YycPoP9u"
   },
   "source": [
    "**13. Create two new columns, 'AttackAll' and 'DefenseAll' which take the sum of Attack and Sp. Attack, and the sum of 'Defense' and 'Sp. Defense',respectively.** "
   ]
  },
  {
   "cell_type": "code",
   "execution_count": 17,
   "metadata": {
    "colab": {
     "base_uri": "https://localhost:8080/",
     "height": 238
    },
    "id": "6Mur9aCQp0o9",
    "outputId": "a5aa4596-07be-4a3a-d1d2-3f5b1f0f07ce"
   },
   "outputs": [
    {
     "data": {
      "text/html": [
       "<div>\n",
       "<style scoped>\n",
       "    .dataframe tbody tr th:only-of-type {\n",
       "        vertical-align: middle;\n",
       "    }\n",
       "\n",
       "    .dataframe tbody tr th {\n",
       "        vertical-align: top;\n",
       "    }\n",
       "\n",
       "    .dataframe thead th {\n",
       "        text-align: right;\n",
       "    }\n",
       "</style>\n",
       "<table border=\"1\" class=\"dataframe\">\n",
       "  <thead>\n",
       "    <tr style=\"text-align: right;\">\n",
       "      <th></th>\n",
       "      <th>Type 1</th>\n",
       "      <th>Type 2</th>\n",
       "      <th>Total</th>\n",
       "      <th>HP</th>\n",
       "      <th>Attack</th>\n",
       "      <th>Defense</th>\n",
       "      <th>Sp. Atk</th>\n",
       "      <th>Sp. Def</th>\n",
       "      <th>Speed</th>\n",
       "      <th>Generation</th>\n",
       "      <th>Legendary</th>\n",
       "      <th>AttackAll</th>\n",
       "      <th>DefenseAll</th>\n",
       "    </tr>\n",
       "    <tr>\n",
       "      <th>Name</th>\n",
       "      <th></th>\n",
       "      <th></th>\n",
       "      <th></th>\n",
       "      <th></th>\n",
       "      <th></th>\n",
       "      <th></th>\n",
       "      <th></th>\n",
       "      <th></th>\n",
       "      <th></th>\n",
       "      <th></th>\n",
       "      <th></th>\n",
       "      <th></th>\n",
       "      <th></th>\n",
       "    </tr>\n",
       "  </thead>\n",
       "  <tbody>\n",
       "    <tr>\n",
       "      <th>Chansey</th>\n",
       "      <td>Normal</td>\n",
       "      <td>Unknown</td>\n",
       "      <td>450</td>\n",
       "      <td>250</td>\n",
       "      <td>5</td>\n",
       "      <td>5</td>\n",
       "      <td>35</td>\n",
       "      <td>105</td>\n",
       "      <td>50</td>\n",
       "      <td>1</td>\n",
       "      <td>False</td>\n",
       "      <td>40</td>\n",
       "      <td>110</td>\n",
       "    </tr>\n",
       "    <tr>\n",
       "      <th>Happiny</th>\n",
       "      <td>Normal</td>\n",
       "      <td>Unknown</td>\n",
       "      <td>220</td>\n",
       "      <td>100</td>\n",
       "      <td>5</td>\n",
       "      <td>5</td>\n",
       "      <td>15</td>\n",
       "      <td>65</td>\n",
       "      <td>30</td>\n",
       "      <td>4</td>\n",
       "      <td>False</td>\n",
       "      <td>20</td>\n",
       "      <td>70</td>\n",
       "    </tr>\n",
       "    <tr>\n",
       "      <th>Shuckle</th>\n",
       "      <td>Bug</td>\n",
       "      <td>Rock</td>\n",
       "      <td>505</td>\n",
       "      <td>20</td>\n",
       "      <td>10</td>\n",
       "      <td>230</td>\n",
       "      <td>10</td>\n",
       "      <td>230</td>\n",
       "      <td>5</td>\n",
       "      <td>2</td>\n",
       "      <td>False</td>\n",
       "      <td>20</td>\n",
       "      <td>460</td>\n",
       "    </tr>\n",
       "    <tr>\n",
       "      <th>Magikarp</th>\n",
       "      <td>Water</td>\n",
       "      <td>Unknown</td>\n",
       "      <td>200</td>\n",
       "      <td>20</td>\n",
       "      <td>10</td>\n",
       "      <td>55</td>\n",
       "      <td>15</td>\n",
       "      <td>20</td>\n",
       "      <td>80</td>\n",
       "      <td>1</td>\n",
       "      <td>False</td>\n",
       "      <td>25</td>\n",
       "      <td>75</td>\n",
       "    </tr>\n",
       "    <tr>\n",
       "      <th>Blissey</th>\n",
       "      <td>Normal</td>\n",
       "      <td>Unknown</td>\n",
       "      <td>540</td>\n",
       "      <td>255</td>\n",
       "      <td>10</td>\n",
       "      <td>10</td>\n",
       "      <td>75</td>\n",
       "      <td>135</td>\n",
       "      <td>55</td>\n",
       "      <td>2</td>\n",
       "      <td>False</td>\n",
       "      <td>85</td>\n",
       "      <td>145</td>\n",
       "    </tr>\n",
       "  </tbody>\n",
       "</table>\n",
       "</div>"
      ],
      "text/plain": [
       "          Type 1   Type 2  Total   HP  Attack  Defense  Sp. Atk  Sp. Def  \\\n",
       "Name                                                                       \n",
       "Chansey   Normal  Unknown    450  250       5        5       35      105   \n",
       "Happiny   Normal  Unknown    220  100       5        5       15       65   \n",
       "Shuckle      Bug     Rock    505   20      10      230       10      230   \n",
       "Magikarp   Water  Unknown    200   20      10       55       15       20   \n",
       "Blissey   Normal  Unknown    540  255      10       10       75      135   \n",
       "\n",
       "          Speed Generation  Legendary  AttackAll  DefenseAll  \n",
       "Name                                                          \n",
       "Chansey      50          1      False         40         110  \n",
       "Happiny      30          4      False         20          70  \n",
       "Shuckle       5          2      False         20         460  \n",
       "Magikarp     80          1      False         25          75  \n",
       "Blissey      55          2      False         85         145  "
      ]
     },
     "execution_count": 17,
     "metadata": {},
     "output_type": "execute_result"
    }
   ],
   "source": [
    "df['AttackAll'] = df['Attack'] + df['Sp. Atk']\n",
    "df['DefenseAll'] = df['Defense'] + df['Sp. Def']\n",
    "df.head()"
   ]
  },
  {
   "attachments": {},
   "cell_type": "markdown",
   "metadata": {
    "id": "ZCNx4IaIq3o-"
   },
   "source": [
    "**14. Write a generic function taking the ratio of two values 'a' and 'b'. Use this function to create a new column 'AtkOverDef' giving the ratio of 'AttackAll' over 'DefenseAll' for each Pokemon.** "
   ]
  },
  {
   "cell_type": "code",
   "execution_count": 18,
   "metadata": {
    "colab": {
     "base_uri": "https://localhost:8080/",
     "height": 238
    },
    "id": "Gp9fpMMIsD_n",
    "outputId": "4f7ed15f-769d-46ab-8c37-98652e29f3b0"
   },
   "outputs": [
    {
     "data": {
      "text/html": [
       "<div>\n",
       "<style scoped>\n",
       "    .dataframe tbody tr th:only-of-type {\n",
       "        vertical-align: middle;\n",
       "    }\n",
       "\n",
       "    .dataframe tbody tr th {\n",
       "        vertical-align: top;\n",
       "    }\n",
       "\n",
       "    .dataframe thead th {\n",
       "        text-align: right;\n",
       "    }\n",
       "</style>\n",
       "<table border=\"1\" class=\"dataframe\">\n",
       "  <thead>\n",
       "    <tr style=\"text-align: right;\">\n",
       "      <th></th>\n",
       "      <th>Type 1</th>\n",
       "      <th>Type 2</th>\n",
       "      <th>Total</th>\n",
       "      <th>HP</th>\n",
       "      <th>Attack</th>\n",
       "      <th>Defense</th>\n",
       "      <th>Sp. Atk</th>\n",
       "      <th>Sp. Def</th>\n",
       "      <th>Speed</th>\n",
       "      <th>Generation</th>\n",
       "      <th>Legendary</th>\n",
       "      <th>AttackAll</th>\n",
       "      <th>DefenseAll</th>\n",
       "      <th>AttkOverDef</th>\n",
       "    </tr>\n",
       "    <tr>\n",
       "      <th>Name</th>\n",
       "      <th></th>\n",
       "      <th></th>\n",
       "      <th></th>\n",
       "      <th></th>\n",
       "      <th></th>\n",
       "      <th></th>\n",
       "      <th></th>\n",
       "      <th></th>\n",
       "      <th></th>\n",
       "      <th></th>\n",
       "      <th></th>\n",
       "      <th></th>\n",
       "      <th></th>\n",
       "      <th></th>\n",
       "    </tr>\n",
       "  </thead>\n",
       "  <tbody>\n",
       "    <tr>\n",
       "      <th>Chansey</th>\n",
       "      <td>Normal</td>\n",
       "      <td>Unknown</td>\n",
       "      <td>450</td>\n",
       "      <td>250</td>\n",
       "      <td>5</td>\n",
       "      <td>5</td>\n",
       "      <td>35</td>\n",
       "      <td>105</td>\n",
       "      <td>50</td>\n",
       "      <td>1</td>\n",
       "      <td>False</td>\n",
       "      <td>40</td>\n",
       "      <td>110</td>\n",
       "      <td>0.363636</td>\n",
       "    </tr>\n",
       "    <tr>\n",
       "      <th>Happiny</th>\n",
       "      <td>Normal</td>\n",
       "      <td>Unknown</td>\n",
       "      <td>220</td>\n",
       "      <td>100</td>\n",
       "      <td>5</td>\n",
       "      <td>5</td>\n",
       "      <td>15</td>\n",
       "      <td>65</td>\n",
       "      <td>30</td>\n",
       "      <td>4</td>\n",
       "      <td>False</td>\n",
       "      <td>20</td>\n",
       "      <td>70</td>\n",
       "      <td>0.285714</td>\n",
       "    </tr>\n",
       "    <tr>\n",
       "      <th>Shuckle</th>\n",
       "      <td>Bug</td>\n",
       "      <td>Rock</td>\n",
       "      <td>505</td>\n",
       "      <td>20</td>\n",
       "      <td>10</td>\n",
       "      <td>230</td>\n",
       "      <td>10</td>\n",
       "      <td>230</td>\n",
       "      <td>5</td>\n",
       "      <td>2</td>\n",
       "      <td>False</td>\n",
       "      <td>20</td>\n",
       "      <td>460</td>\n",
       "      <td>0.043478</td>\n",
       "    </tr>\n",
       "    <tr>\n",
       "      <th>Magikarp</th>\n",
       "      <td>Water</td>\n",
       "      <td>Unknown</td>\n",
       "      <td>200</td>\n",
       "      <td>20</td>\n",
       "      <td>10</td>\n",
       "      <td>55</td>\n",
       "      <td>15</td>\n",
       "      <td>20</td>\n",
       "      <td>80</td>\n",
       "      <td>1</td>\n",
       "      <td>False</td>\n",
       "      <td>25</td>\n",
       "      <td>75</td>\n",
       "      <td>0.333333</td>\n",
       "    </tr>\n",
       "    <tr>\n",
       "      <th>Blissey</th>\n",
       "      <td>Normal</td>\n",
       "      <td>Unknown</td>\n",
       "      <td>540</td>\n",
       "      <td>255</td>\n",
       "      <td>10</td>\n",
       "      <td>10</td>\n",
       "      <td>75</td>\n",
       "      <td>135</td>\n",
       "      <td>55</td>\n",
       "      <td>2</td>\n",
       "      <td>False</td>\n",
       "      <td>85</td>\n",
       "      <td>145</td>\n",
       "      <td>0.586207</td>\n",
       "    </tr>\n",
       "  </tbody>\n",
       "</table>\n",
       "</div>"
      ],
      "text/plain": [
       "          Type 1   Type 2  Total   HP  Attack  Defense  Sp. Atk  Sp. Def  \\\n",
       "Name                                                                       \n",
       "Chansey   Normal  Unknown    450  250       5        5       35      105   \n",
       "Happiny   Normal  Unknown    220  100       5        5       15       65   \n",
       "Shuckle      Bug     Rock    505   20      10      230       10      230   \n",
       "Magikarp   Water  Unknown    200   20      10       55       15       20   \n",
       "Blissey   Normal  Unknown    540  255      10       10       75      135   \n",
       "\n",
       "          Speed Generation  Legendary  AttackAll  DefenseAll  AttkOverDef  \n",
       "Name                                                                       \n",
       "Chansey      50          1      False         40         110     0.363636  \n",
       "Happiny      30          4      False         20          70     0.285714  \n",
       "Shuckle       5          2      False         20         460     0.043478  \n",
       "Magikarp     80          1      False         25          75     0.333333  \n",
       "Blissey      55          2      False         85         145     0.586207  "
      ]
     },
     "execution_count": 18,
     "metadata": {},
     "output_type": "execute_result"
    }
   ],
   "source": [
    "def ratio(a, b):\n",
    "    return a / b\n",
    "\n",
    "\n",
    "df['AttkOverDef'] = ratio(df['AttackAll'], df['DefenseAll'])\n",
    "# Divisions by 0 are automatically mapped ton 'inf'.\n",
    "df.head()"
   ]
  },
  {
   "attachments": {},
   "cell_type": "markdown",
   "metadata": {
    "id": "YJfaI8VKv64S"
   },
   "source": [
    "**15. Change the column names to upper cases, and remove the '.' in the column names, as well as blanks.** "
   ]
  },
  {
   "cell_type": "code",
   "execution_count": 19,
   "metadata": {
    "colab": {
     "base_uri": "https://localhost:8080/",
     "height": 292
    },
    "id": "I89576fk_gQk",
    "outputId": "a5460673-406d-47d8-e376-e1e6d3220c77"
   },
   "outputs": [
    {
     "data": {
      "text/html": [
       "<div>\n",
       "<style scoped>\n",
       "    .dataframe tbody tr th:only-of-type {\n",
       "        vertical-align: middle;\n",
       "    }\n",
       "\n",
       "    .dataframe tbody tr th {\n",
       "        vertical-align: top;\n",
       "    }\n",
       "\n",
       "    .dataframe thead th {\n",
       "        text-align: right;\n",
       "    }\n",
       "</style>\n",
       "<table border=\"1\" class=\"dataframe\">\n",
       "  <thead>\n",
       "    <tr style=\"text-align: right;\">\n",
       "      <th></th>\n",
       "      <th>TYPE1</th>\n",
       "      <th>TYPE2</th>\n",
       "      <th>TOTAL</th>\n",
       "      <th>HP</th>\n",
       "      <th>ATTACK</th>\n",
       "      <th>DEFENSE</th>\n",
       "      <th>SPATK</th>\n",
       "      <th>SPDEF</th>\n",
       "      <th>SPEED</th>\n",
       "      <th>GENERATION</th>\n",
       "      <th>LEGENDARY</th>\n",
       "      <th>ATTACKALL</th>\n",
       "      <th>DEFENSEALL</th>\n",
       "      <th>ATTKOVERDEF</th>\n",
       "    </tr>\n",
       "    <tr>\n",
       "      <th>Name</th>\n",
       "      <th></th>\n",
       "      <th></th>\n",
       "      <th></th>\n",
       "      <th></th>\n",
       "      <th></th>\n",
       "      <th></th>\n",
       "      <th></th>\n",
       "      <th></th>\n",
       "      <th></th>\n",
       "      <th></th>\n",
       "      <th></th>\n",
       "      <th></th>\n",
       "      <th></th>\n",
       "      <th></th>\n",
       "    </tr>\n",
       "  </thead>\n",
       "  <tbody>\n",
       "    <tr>\n",
       "      <th>Chansey</th>\n",
       "      <td>Normal</td>\n",
       "      <td>Unknown</td>\n",
       "      <td>450</td>\n",
       "      <td>250</td>\n",
       "      <td>5</td>\n",
       "      <td>5</td>\n",
       "      <td>35</td>\n",
       "      <td>105</td>\n",
       "      <td>50</td>\n",
       "      <td>1</td>\n",
       "      <td>False</td>\n",
       "      <td>40</td>\n",
       "      <td>110</td>\n",
       "      <td>0.363636</td>\n",
       "    </tr>\n",
       "    <tr>\n",
       "      <th>Happiny</th>\n",
       "      <td>Normal</td>\n",
       "      <td>Unknown</td>\n",
       "      <td>220</td>\n",
       "      <td>100</td>\n",
       "      <td>5</td>\n",
       "      <td>5</td>\n",
       "      <td>15</td>\n",
       "      <td>65</td>\n",
       "      <td>30</td>\n",
       "      <td>4</td>\n",
       "      <td>False</td>\n",
       "      <td>20</td>\n",
       "      <td>70</td>\n",
       "      <td>0.285714</td>\n",
       "    </tr>\n",
       "    <tr>\n",
       "      <th>Shuckle</th>\n",
       "      <td>Bug</td>\n",
       "      <td>Rock</td>\n",
       "      <td>505</td>\n",
       "      <td>20</td>\n",
       "      <td>10</td>\n",
       "      <td>230</td>\n",
       "      <td>10</td>\n",
       "      <td>230</td>\n",
       "      <td>5</td>\n",
       "      <td>2</td>\n",
       "      <td>False</td>\n",
       "      <td>20</td>\n",
       "      <td>460</td>\n",
       "      <td>0.043478</td>\n",
       "    </tr>\n",
       "    <tr>\n",
       "      <th>Magikarp</th>\n",
       "      <td>Water</td>\n",
       "      <td>Unknown</td>\n",
       "      <td>200</td>\n",
       "      <td>20</td>\n",
       "      <td>10</td>\n",
       "      <td>55</td>\n",
       "      <td>15</td>\n",
       "      <td>20</td>\n",
       "      <td>80</td>\n",
       "      <td>1</td>\n",
       "      <td>False</td>\n",
       "      <td>25</td>\n",
       "      <td>75</td>\n",
       "      <td>0.333333</td>\n",
       "    </tr>\n",
       "    <tr>\n",
       "      <th>Blissey</th>\n",
       "      <td>Normal</td>\n",
       "      <td>Unknown</td>\n",
       "      <td>540</td>\n",
       "      <td>255</td>\n",
       "      <td>10</td>\n",
       "      <td>10</td>\n",
       "      <td>75</td>\n",
       "      <td>135</td>\n",
       "      <td>55</td>\n",
       "      <td>2</td>\n",
       "      <td>False</td>\n",
       "      <td>85</td>\n",
       "      <td>145</td>\n",
       "      <td>0.586207</td>\n",
       "    </tr>\n",
       "  </tbody>\n",
       "</table>\n",
       "</div>"
      ],
      "text/plain": [
       "           TYPE1    TYPE2  TOTAL   HP  ATTACK  DEFENSE  SPATK  SPDEF  SPEED  \\\n",
       "Name                                                                          \n",
       "Chansey   Normal  Unknown    450  250       5        5     35    105     50   \n",
       "Happiny   Normal  Unknown    220  100       5        5     15     65     30   \n",
       "Shuckle      Bug     Rock    505   20      10      230     10    230      5   \n",
       "Magikarp   Water  Unknown    200   20      10       55     15     20     80   \n",
       "Blissey   Normal  Unknown    540  255      10       10     75    135     55   \n",
       "\n",
       "         GENERATION  LEGENDARY  ATTACKALL  DEFENSEALL  ATTKOVERDEF  \n",
       "Name                                                                \n",
       "Chansey           1      False         40         110     0.363636  \n",
       "Happiny           4      False         20          70     0.285714  \n",
       "Shuckle           2      False         20         460     0.043478  \n",
       "Magikarp          1      False         25          75     0.333333  \n",
       "Blissey           2      False         85         145     0.586207  "
      ]
     },
     "execution_count": 19,
     "metadata": {},
     "output_type": "execute_result"
    }
   ],
   "source": [
    "# change into upper case\n",
    "df.columns = df.columns.str.upper().str.replace('.', '', regex=False).str.replace(' ', '')  \n",
    "df.head()"
   ]
  },
  {
   "attachments": {},
   "cell_type": "markdown",
   "metadata": {
    "id": "oemote1Dwiil"
   },
   "source": [
    "**16. Plot an histogram of the different 'TYPE1' categories. The figure must be 16 inch wide and 4 inch high. \n",
    "Use the matplotlib.pyplot library and the countplot method from the seaborn librabry. The counts should appear in increasing order.**"
   ]
  },
  {
   "cell_type": "code",
   "execution_count": 20,
   "metadata": {
    "colab": {
     "base_uri": "https://localhost:8080/",
     "height": 304
    },
    "id": "Ykf0mI1J_gQk",
    "outputId": "4da7416a-c3de-49d2-db86-95a03e3df593"
   },
   "outputs": [
    {
     "data": {
      "text/plain": [
       "<AxesSubplot:xlabel='TYPE1', ylabel='count'>"
      ]
     },
     "execution_count": 20,
     "metadata": {},
     "output_type": "execute_result"
    },
    {
     "data": {
      "image/png": "[encoded data removed]",
      "text/plain": [
       "<Figure size 1152x288 with 1 Axes>"
      ]
     },
     "metadata": {},
     "output_type": "display_data"
    }
   ],
   "source": [
    "plt.figure(figsize=(16, 4))  # this creates a figure 8 inch wide, 4 inch high\n",
    "sns.countplot(x='TYPE1', data=df, order=df.TYPE1.value_counts().index)"
   ]
  },
  {
   "attachments": {},
   "cell_type": "markdown",
   "metadata": {
    "id": "Sd7rlq5RxgNa"
   },
   "source": [
    "**17. Do the same as above, but for the 'TYPE2' categories.** "
   ]
  },
  {
   "cell_type": "code",
   "execution_count": 21,
   "metadata": {
    "colab": {
     "base_uri": "https://localhost:8080/",
     "height": 306
    },
    "id": "PcWnQOBh_gQk",
    "outputId": "4928077c-9051-42db-e2a2-8dc86e96f21e"
   },
   "outputs": [
    {
     "data": {
      "text/plain": [
       "<AxesSubplot:xlabel='TYPE2', ylabel='count'>"
      ]
     },
     "execution_count": 21,
     "metadata": {},
     "output_type": "execute_result"
    },
    {
     "data": {
      "image/png": "[encoded data removed]",
      "text/plain": [
       "<Figure size 1152x288 with 1 Axes>"
      ]
     },
     "metadata": {},
     "output_type": "display_data"
    }
   ],
   "source": [
    "plt.figure(figsize=(16, 4))  # this creates a figure 8 inch wide, 4 inch high\n",
    "sns.countplot(x='TYPE2', data=df, order=df.TYPE2.value_counts().index)"
   ]
  },
  {
   "attachments": {},
   "cell_type": "markdown",
   "metadata": {
    "id": "HJQnPxOy0Cr0"
   },
   "source": [
    "**18. Plot the densities of the variables 'Attack', 'Defenses' and 'Speed' onto three separates plots. Use the displot method of the library seaborn.**"
   ]
  },
  {
   "cell_type": "code",
   "execution_count": 22,
   "metadata": {
    "colab": {
     "base_uri": "https://localhost:8080/",
     "height": 1000
    },
    "id": "57Gmsp9x_gQm",
    "outputId": "38abfdbf-81ea-43be-b7ba-56735d7f002b"
   },
   "outputs": [
    {
     "data": {
      "text/plain": [
       "<seaborn.axisgrid.FacetGrid at 0x7f83034ed460>"
      ]
     },
     "execution_count": 22,
     "metadata": {},
     "output_type": "execute_result"
    },
    {
     "data": {
      "image/png": "[encoded data removed]",
      "text/plain": [
       "<Figure size 360x360 with 1 Axes>"
      ]
     },
     "metadata": {},
     "output_type": "display_data"
    },
    {
     "data": {
      "image/png": "[encoded data removed]",
      "text/plain": [
       "<Figure size 360x360 with 1 Axes>"
      ]
     },
     "metadata": {},
     "output_type": "display_data"
    },
    {
     "data": {
      "image/png": "[encoded data removed]",
      "text/plain": [
       "<Figure size 360x360 with 1 Axes>"
      ]
     },
     "metadata": {},
     "output_type": "display_data"
    },
    {
     "data": {
      "image/png": "[encoded data removed]",
      "text/plain": [
       "<Figure size 360x360 with 1 Axes>"
      ]
     },
     "metadata": {},
     "output_type": "display_data"
    },
    {
     "data": {
      "image/png": "[encoded data removed]",
      "text/plain": [
       "<Figure size 360x360 with 1 Axes>"
      ]
     },
     "metadata": {},
     "output_type": "display_data"
    },
    {
     "data": {
      "image/png": "[encoded data removed]",
      "text/plain": [
       "<Figure size 360x360 with 1 Axes>"
      ]
     },
     "metadata": {},
     "output_type": "display_data"
    }
   ],
   "source": [
    "sns.displot(x='ATTACK', color='red', kind='kde', data=df)\n",
    "sns.displot(x='DEFENSE', color='blue', kind='kde', data=df)\n",
    "sns.displot(x='SPEED', color='green', kind='kde', data=df)\n",
    "# OR\n",
    "sns.displot(x='ATTACK', color='red', kde=True, data=df)\n",
    "sns.displot(x='DEFENSE', color='blue', kde=True, data=df)\n",
    "sns.displot(x='SPEED', color='green', kde=True, data=df)"
   ]
  },
  {
   "attachments": {},
   "cell_type": "markdown",
   "metadata": {
    "id": "8fZ4qb_N1QCH"
   },
   "source": [
    "**19. Plot the density of the variable 'ATTACK' for Legendary and non Legendary pokemons. The two densities should appear on different facets of the same plot.**"
   ]
  },
  {
   "cell_type": "code",
   "execution_count": 23,
   "metadata": {
    "colab": {
     "base_uri": "https://localhost:8080/",
     "height": 378
    },
    "id": "BV6m-Z380uDl",
    "outputId": "c147bd2e-c7fa-4ba4-c593-a049f7064fa2"
   },
   "outputs": [
    {
     "data": {
      "text/plain": [
       "<seaborn.axisgrid.FacetGrid at 0x7f8300aec8e0>"
      ]
     },
     "execution_count": 23,
     "metadata": {},
     "output_type": "execute_result"
    },
    {
     "data": {
      "image/png": "[encoded data removed]",
      "text/plain": [
       "<Figure size 720x360 with 2 Axes>"
      ]
     },
     "metadata": {},
     "output_type": "display_data"
    }
   ],
   "source": [
    "sns.displot(data=df, x='ATTACK', color='red', kind='kde', col='LEGENDARY')"
   ]
  },
  {
   "attachments": {},
   "cell_type": "markdown",
   "metadata": {
    "id": "IwSqLytJ12_K"
   },
   "source": [
    "**20. Generate a scatter plot of the variable 'Defense' on the y-axis, and the variable 'Attack' on the x-axis. Legendary and non-legendary Pokemons should be indicated using different colors.**"
   ]
  },
  {
   "cell_type": "code",
   "execution_count": 24,
   "metadata": {
    "colab": {
     "base_uri": "https://localhost:8080/",
     "height": 1000
    },
    "id": "ubOms2Hk_gQm",
    "outputId": "d32debc7-e03e-4540-b384-071a02b6cceb"
   },
   "outputs": [
    {
     "data": {
      "text/plain": [
       "<AxesSubplot:xlabel='ATTACK', ylabel='DEFENSE'>"
      ]
     },
     "execution_count": 24,
     "metadata": {},
     "output_type": "execute_result"
    },
    {
     "data": {
      "image/png": "[encoded data removed]",
      "text/plain": [
       "<Figure size 432x288 with 1 Axes>"
      ]
     },
     "metadata": {},
     "output_type": "display_data"
    }
   ],
   "source": [
    "sns.scatterplot(data=df, x='ATTACK', y='DEFENSE', hue='LEGENDARY')"
   ]
  },
  {
   "attachments": {},
   "cell_type": "markdown",
   "metadata": {},
   "source": [
    "**21. Filter the dataframe to contain only Pokemons of generations 1 and 4. Using the filtered dataframe, generate a scatter plot of the variable 'Total' on the y-axis, and the variable 'Attack' on the x-axis, by separating the two filtered generations. Check how to remove unused categories from a dataframe prior to plotting.**\n",
    "\n",
    "**The figure shoud be 8 inches high, and 8 inches wide.**"
   ]
  },
  {
   "cell_type": "code",
   "execution_count": 25,
   "metadata": {},
   "outputs": [
    {
     "data": {
      "text/plain": [
       "<AxesSubplot:xlabel='ATTACK', ylabel='TOTAL'>"
      ]
     },
     "execution_count": 25,
     "metadata": {},
     "output_type": "execute_result"
    },
    {
     "data": {
      "image/png": "[encoded data removed]",
      "text/plain": [
       "<Figure size 576x576 with 1 Axes>"
      ]
     },
     "metadata": {},
     "output_type": "display_data"
    }
   ],
   "source": [
    "df_filtered = df[(df.GENERATION == 1) | (df.GENERATION == 4)].copy()\n",
    "df_filtered.GENERATION = df_filtered.GENERATION.cat.remove_unused_categories()\n",
    "\n",
    "plt.figure(figsize=(8, 8))\n",
    "sns.scatterplot(x='ATTACK', y='TOTAL', data=df_filtered, hue='GENERATION')"
   ]
  },
  {
   "attachments": {},
   "cell_type": "markdown",
   "metadata": {
    "id": "Ufr2rxpd2xgh"
   },
   "source": [
    "**22. Create a histogram of the variable 'GENERATION'. Separate legendary and non-legendary Pokemons. The counts should appear on the same figure in decreasing order.** \n",
    "\n",
    "**The figure should be 4 inches high, and 16 inches wide.**"
   ]
  },
  {
   "cell_type": "code",
   "execution_count": 26,
   "metadata": {
    "colab": {
     "base_uri": "https://localhost:8080/",
     "height": 304
    },
    "id": "Qk7RrmFt_gQm",
    "outputId": "c905a67a-6c74-444c-95fe-474f3b639af2"
   },
   "outputs": [
    {
     "data": {
      "image/png": "[encoded data removed]",
      "text/plain": [
       "<Figure size 1152x288 with 1 Axes>"
      ]
     },
     "metadata": {},
     "output_type": "display_data"
    }
   ],
   "source": [
    "plt.figure(figsize=(16, 4))  # this creates a figure 16 inch wide, 4 inch high\n",
    "sns.countplot(x='GENERATION', data=df, order=df.GENERATION.value_counts().index, hue='LEGENDARY')\n",
    "plt.show()"
   ]
  },
  {
   "attachments": {},
   "cell_type": "markdown",
   "metadata": {
    "id": "YszwDTeJ3HyN"
   },
   "source": [
    "**23. Generate a boxplot of the variable 'TOTAL'. Use the method boxplot from the library seaborn. How to interpret it?** "
   ]
  },
  {
   "cell_type": "code",
   "execution_count": 27,
   "metadata": {
    "colab": {
     "base_uri": "https://localhost:8080/",
     "height": 283
    },
    "id": "lCREREg7_gQn",
    "outputId": "375ecf14-716f-40d3-8c13-1e1b319deb8b"
   },
   "outputs": [
    {
     "data": {
      "text/plain": [
       "<AxesSubplot:ylabel='TOTAL'>"
      ]
     },
     "execution_count": 27,
     "metadata": {},
     "output_type": "execute_result"
    },
    {
     "data": {
      "image/png": "[encoded data removed]",
      "text/plain": [
       "<Figure size 432x288 with 1 Axes>"
      ]
     },
     "metadata": {},
     "output_type": "display_data"
    }
   ],
   "source": [
    "sns.boxplot(y='TOTAL', data=df)"
   ]
  },
  {
   "attachments": {},
   "cell_type": "markdown",
   "metadata": {},
   "source": [
    "The horizontal line within the box corresponds to the median of the variable 'TOTAL' (around 450). The extremities of the box correspond to the 25% quartile $Q_1=330$, and to the 75% quartile $Q_3=515$, i.e. 25% of all observations of the variable 'TOTAL' are below 330, while 75% of all observations are below 515. \n",
    "\n",
    "The 'T' lines correspond to the whiskers. The extremity of the upper whisker corresponds to the highest observation that is lower than $Q_3 + 1.5\\text{IQR}= 792.5$, while the extremity of the lower whisker corresponds to the lowest observation that is higher than $Q_1 - 1.5\\text{IQR}=52.5$, where $\\text{IQR} = Q_3 - Q_1=185$ is the inter-quartile range. Here the highest observation for the variable 'TOTAL' is 780, while the lowest observation is 180.  Any value above $Q_3 + 1.5\\text{IQR}$ or below $Q_1 - 1.5\\text{IQR}$ is called an *outlier*, and appears as a circle on the boxplot. In our case, we don't have outliers for the variable 'Total'."
   ]
  },
  {
   "cell_type": "code",
   "execution_count": 28,
   "metadata": {},
   "outputs": [
    {
     "data": {
      "text/plain": [
       "count    800.00000\n",
       "mean     435.10250\n",
       "std      119.96304\n",
       "min      180.00000\n",
       "25%      330.00000\n",
       "50%      450.00000\n",
       "75%      515.00000\n",
       "max      780.00000\n",
       "Name: TOTAL, dtype: float64"
      ]
     },
     "execution_count": 28,
     "metadata": {},
     "output_type": "execute_result"
    }
   ],
   "source": [
    "df.TOTAL.describe()"
   ]
  },
  {
   "attachments": {},
   "cell_type": "markdown",
   "metadata": {
    "id": "PZeGkhZu3Y8i"
   },
   "source": [
    "**24. Generate one boxplot of the variable 'TOTAL' per category of the variable 'GENERATION'. Separate legendary and non-legendary Pokemons. All boxplots must appear on the same plot.**"
   ]
  },
  {
   "cell_type": "code",
   "execution_count": 29,
   "metadata": {
    "colab": {
     "base_uri": "https://localhost:8080/",
     "height": 323
    },
    "id": "_kQ2saC6_gQn",
    "outputId": "253874dc-2728-4c40-88a1-f4c58e984ebd"
   },
   "outputs": [
    {
     "data": {
      "text/plain": [
       "<AxesSubplot:xlabel='LEGENDARY', ylabel='TOTAL'>"
      ]
     },
     "execution_count": 29,
     "metadata": {},
     "output_type": "execute_result"
    },
    {
     "data": {
      "image/png": "[encoded data removed]",
      "text/plain": [
       "<Figure size 576x576 with 1 Axes>"
      ]
     },
     "metadata": {},
     "output_type": "display_data"
    }
   ],
   "source": [
    "plt.figure(figsize=(8, 8))\n",
    "sns.boxplot(x='LEGENDARY', y='TOTAL', data=df, hue='GENERATION')"
   ]
  }
 ],
 "metadata": {
  "colab": {
   "collapsed_sections": [],
   "name": "eda_pokemon_sol_22.ipynb",
   "provenance": []
  },
  "kernelspec": {
   "display_name": "base",
   "language": "python",
   "name": "python3"
  },
  "language_info": {
   "codemirror_mode": {
    "name": "ipython",
    "version": 3
   },
   "file_extension": ".py",
   "mimetype": "text/x-python",
   "name": "python",
   "nbconvert_exporter": "python",
   "pygments_lexer": "ipython3",
   "version": "3.8.8"
  },
  "vscode": {
   "interpreter": {
    "hash": "bfe0e2b9b67a2fcef00021a1d2a516837bff30cf713e434b27f739f4afd30381"
   }
  }
 },
 "nbformat": 4,
 "nbformat_minor": 0
}
