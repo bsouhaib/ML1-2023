{
 "cells": [
  {
   "attachments": {},
   "cell_type": "markdown",
   "metadata": {},
   "source": [
    "# Machine Learning 2022-2023 - UMONS"
   ]
  },
  {
   "attachments": {},
   "cell_type": "markdown",
   "metadata": {},
   "source": [
    "# Introduction to regression and classification with Scikit-Learn"
   ]
  },
  {
   "attachments": {},
   "cell_type": "markdown",
   "metadata": {
    "id": "4bV7mOa9W1Eu"
   },
   "source": [
    "This notebook is an introduction to the library scikit-learn (https://scikit-learn.org/stable/), which provides numerous tools to easily perform machine learning tasks. \n",
    "\n",
    "In this lab, we'll experiment with two of the most frequently encountered tasks in machine learning : \n",
    "  - Regression : predicting a continuous variable given a set of predictors. \n",
    "  - Classification : predicting the class of a sample given a set of predictors.\n",
    "\n",
    "In order for you to first have a good feeling of the general pipeline of a machine learning task, we'll experiment on the Pokemon dataset with two simple models : a linear regression, and a K-nearest neighbors classifier. "
   ]
  },
  {
   "attachments": {},
   "cell_type": "markdown",
   "metadata": {
    "id": "jBfdU_joaqrm"
   },
   "source": [
    "**Import the necessary libraries**"
   ]
  },
  {
   "cell_type": "code",
   "execution_count": null,
   "metadata": {
    "id": "y90MCHqMa1j5"
   },
   "outputs": [],
   "source": [
    "import matplotlib.pyplot as plt\n",
    "import numpy as np\n",
    "import pandas as pd\n",
    "import seaborn as sns\n",
    "from sklearn.linear_model import LinearRegression\n",
    "from sklearn.metrics import accuracy_score, confusion_matrix, mean_squared_error\n",
    "from sklearn.model_selection import train_test_split\n",
    "from sklearn.neighbors import KNeighborsClassifier\n",
    "from sklearn.preprocessing import OneHotEncoder"
   ]
  },
  {
   "attachments": {},
   "cell_type": "markdown",
   "metadata": {
    "id": "zx1zL4ura5ze"
   },
   "source": [
    "**Load the 'Pokemon.csv' dataset as a Pandas Dataframe, change the Type 1 and Type 2 variables to categorical and replace 'Type 2' missing values by the corresponding value of the 'Type 1' variable.**"
   ]
  },
  {
   "cell_type": "code",
   "execution_count": null,
   "metadata": {
    "colab": {
     "base_uri": "https://localhost:8080/"
    },
    "id": "LuZ28dR_bsXi",
    "outputId": "953949cf-64d3-4c54-e218-15b2cba75dbe"
   },
   "outputs": [],
   "source": [
    "## Read csv and load Pandas Dataframe.\n",
    "\n",
    "df = pd.read_csv('data/Pokemon.csv')\n",
    "df.head()"
   ]
  },
  {
   "cell_type": "code",
   "execution_count": null,
   "metadata": {
    "colab": {
     "base_uri": "https://localhost:8080/",
     "height": 667
    },
    "id": "BRPoZ4YhbuLr",
    "outputId": "7f4450fa-b7c8-4ea6-f53b-c3cd360882cb"
   },
   "outputs": [],
   "source": [
    "## Change variables types\n",
    "\n",
    "print(df.dtypes)\n",
    "\n",
    "df = df.astype({'Type 1': 'category', 'Type 2': 'category', 'Generation': 'category'})\n",
    "\n",
    "print(df.dtypes)"
   ]
  },
  {
   "cell_type": "code",
   "execution_count": null,
   "metadata": {
    "colab": {
     "base_uri": "https://localhost:8080/"
    },
    "id": "SGYJzwQsb6Le",
    "outputId": "1a104426-90ec-405a-c0d9-23716c69091f"
   },
   "outputs": [],
   "source": [
    "## Check for any missing values, replace them with the corresponding value of the 'Type 1' variable.\n",
    "\n",
    "print(df.isna().sum())\n",
    "\n",
    "df['Type 2'].fillna(df['Type 1'], inplace=True)\n",
    "\n",
    "df.isna().sum()"
   ]
  },
  {
   "attachments": {},
   "cell_type": "markdown",
   "metadata": {
    "id": "ZiupbAY9b-H2"
   },
   "source": [
    "**Select the target variable y as 'HP' and the predictor as 'Attack'. Create a scatter plot of the two variables.**"
   ]
  },
  {
   "cell_type": "code",
   "execution_count": null,
   "metadata": {},
   "outputs": [],
   "source": [
    "## Select a target variable y and a predictor X.\n",
    "\n",
    "y = df[['HP']]\n",
    "X = df[['Attack']]"
   ]
  },
  {
   "cell_type": "code",
   "execution_count": null,
   "metadata": {},
   "outputs": [],
   "source": [
    "## Create the scatter plot.\n",
    "\n",
    "sns.scatterplot(x='Attack', y='HP', data=df)"
   ]
  },
  {
   "attachments": {},
   "cell_type": "markdown",
   "metadata": {},
   "source": [
    "**Split the dataset into training and test sets following an 80%/20% partition.**"
   ]
  },
  {
   "cell_type": "code",
   "execution_count": null,
   "metadata": {
    "colab": {
     "base_uri": "https://localhost:8080/",
     "height": 296
    },
    "id": "sbGfkAWmcbRN",
    "outputId": "6e304cdf-ea3e-4fbf-ca96-32cb9f845a34"
   },
   "outputs": [],
   "source": [
    "# Define a training set and a test set.\n",
    "\n",
    "X_train, X_test, y_train, y_test = train_test_split(\n",
    "    X, y, train_size=0.8, test_size=0.2, shuffle=True, random_state=0\n",
    ")\n",
    "\n",
    "print((X_train.shape, y_train.shape), (X_test.shape, y_test.shape))"
   ]
  },
  {
   "cell_type": "markdown",
   "metadata": {
    "id": "QRsWArmDcj_Z"
   },
   "source": [
    "**Build a linear regression model and fit it to the training data.**"
   ]
  },
  {
   "cell_type": "code",
   "execution_count": null,
   "metadata": {
    "colab": {
     "base_uri": "https://localhost:8080/"
    },
    "id": "wofvXKaicjJB",
    "outputId": "abb5bc94-acbd-4a93-bea8-9ebcd078bc45"
   },
   "outputs": [],
   "source": [
    "## Define the linear regression model.\n",
    "\n",
    "model = LinearRegression(fit_intercept=True)"
   ]
  },
  {
   "cell_type": "code",
   "execution_count": null,
   "metadata": {},
   "outputs": [],
   "source": [
    "## Fit the model to the training data.\n",
    "\n",
    "model.fit(X_train, y_train)"
   ]
  },
  {
   "attachments": {},
   "cell_type": "markdown",
   "metadata": {
    "id": "HZtL8vxjc8yb"
   },
   "source": [
    "**Compute the mean squared error (MSE) on both the training and test sets.**"
   ]
  },
  {
   "cell_type": "code",
   "execution_count": null,
   "metadata": {
    "colab": {
     "base_uri": "https://localhost:8080/"
    },
    "id": "EF08yODueNB9",
    "outputId": "c0f7b0e1-c431-4013-ea61-9d132b9155f4"
   },
   "outputs": [],
   "source": [
    "## Make predictions for both the training and the test sets.\n",
    "\n",
    "y_pred_train = model.predict(X_train)\n",
    "y_pred_test = model.predict(X_test)\n",
    "\n",
    "## Compute the coefficient of determination and the mean square error on both sets.\n",
    "\n",
    "MSE_train = mean_squared_error(y_train, y_pred_train)\n",
    "MSE_test = mean_squared_error(y_test, y_pred_test)\n",
    "\n",
    "print(f'MSE on training set : {MSE_train}')\n",
    "print(f'MSE on test set : {MSE_test}')"
   ]
  },
  {
   "cell_type": "markdown",
   "metadata": {
    "id": "MAjY7FyheSwV"
   },
   "source": [
    "**Plot the regression line**"
   ]
  },
  {
   "cell_type": "code",
   "execution_count": null,
   "metadata": {
    "colab": {
     "base_uri": "https://localhost:8080/",
     "height": 279
    },
    "id": "PIZ5v8MDem9w",
    "outputId": "3dd4d060-cf1e-4cbe-c603-daaee7439d44"
   },
   "outputs": [],
   "source": [
    "## Generate predictions out of the fitted model.\n",
    "\n",
    "xfit = np.linspace(0, 200)\n",
    "xfit = xfit[:, np.newaxis]\n",
    "yfit = model.predict(xfit)\n",
    "\n",
    "## Plot the regression line.\n",
    "\n",
    "fig, ax = plt.subplots()\n",
    "ax = sns.scatterplot(x='Attack', y='HP', data=df)\n",
    "ax.plot(xfit, yfit, label='Regression line', color='red')\n",
    "ax.legend()"
   ]
  },
  {
   "attachments": {},
   "cell_type": "markdown",
   "metadata": {},
   "source": [
    "## Regression task with a Linear Regression model. "
   ]
  },
  {
   "attachments": {},
   "cell_type": "markdown",
   "metadata": {
    "id": "PLEEhDHje0Zm"
   },
   "source": [
    "**1) Your turn ! Select 'Attack' and 'Defense' as predictor variables, and 'HP' as target variable.**"
   ]
  },
  {
   "cell_type": "code",
   "execution_count": 12,
   "metadata": {},
   "outputs": [],
   "source": [
    "X = df[['Attack', 'Defense']]\n",
    "y = df[['HP']]"
   ]
  },
  {
   "attachments": {},
   "cell_type": "markdown",
   "metadata": {},
   "source": [
    "**2) Split the dataset into a training and a test set. Follow an 80%/20% split partition, and make sure the dataset is shuffled.** "
   ]
  },
  {
   "cell_type": "code",
   "execution_count": 13,
   "metadata": {
    "id": "YkbDiZxafwpD"
   },
   "outputs": [],
   "source": [
    "X_train, X_test, y_train, y_test = train_test_split(\n",
    "    X, y, train_size=0.8, test_size=0.2, shuffle=True, random_state=0\n",
    ")"
   ]
  },
  {
   "attachments": {},
   "cell_type": "markdown",
   "metadata": {},
   "source": [
    "**3) Fit a Linear Regression model to the training data.** "
   ]
  },
  {
   "cell_type": "code",
   "execution_count": 14,
   "metadata": {},
   "outputs": [
    {
     "data": {
      "text/plain": [
       "LinearRegression()"
      ]
     },
     "execution_count": 14,
     "metadata": {},
     "output_type": "execute_result"
    }
   ],
   "source": [
    "model = LinearRegression(fit_intercept=True)\n",
    "model.fit(X_train, y_train)"
   ]
  },
  {
   "attachments": {},
   "cell_type": "markdown",
   "metadata": {},
   "source": [
    "**4) What is the expression of the fitted model ? You need to access the model's parameters to answer this question.**"
   ]
  },
  {
   "cell_type": "code",
   "execution_count": 15,
   "metadata": {
    "colab": {
     "base_uri": "https://localhost:8080/"
    },
    "id": "Q9Z0y3gxf2QS",
    "outputId": "69ffa580-2d41-47bc-cc5b-a0442f8fa6bd"
   },
   "outputs": [
    {
     "name": "stdout",
     "output_type": "stream",
     "text": [
      "Model's coefficients : [[0.29504121 0.08882897]]\n",
      "Model's intercept : [38.66307442]\n"
     ]
    }
   ],
   "source": [
    "coef = model.coef_\n",
    "intercept = model.intercept_\n",
    "\n",
    "print(f'Model\\'s coefficients : {coef}')\n",
    "print(f'Model\\'s intercept : {intercept}')"
   ]
  },
  {
   "attachments": {},
   "cell_type": "markdown",
   "metadata": {},
   "source": [
    "The (multiple) linear regression model with two predictors writes $\\hat{y} = \\beta_0 + \\beta_1 x_1 + \\beta_2 x_2$. In our case, given the model's parameters, we have $\\hat{\\text{HP}} = 38.66 + 0.29~\\text{Attack}+ 0.09~\\text{Defense}$."
   ]
  },
  {
   "cell_type": "code",
   "execution_count": 16,
   "metadata": {
    "colab": {
     "base_uri": "https://localhost:8080/",
     "height": 248
    },
    "id": "EWTI84PBV5TB",
    "outputId": "b5335c11-f01b-422b-cec2-14e8632dec3f"
   },
   "outputs": [
    {
     "data": {
      "image/png": "[encoded data removed]",
      "text/plain": [
       "<Figure size 432x288 with 1 Axes>"
      ]
     },
     "metadata": {
      "needs_background": "light"
     },
     "output_type": "display_data"
    }
   ],
   "source": [
    "##Plot the regression plane##\n",
    "\n",
    "z = df['Defense']\n",
    "x = df['Attack']\n",
    "xf = np.linspace(0, 200)\n",
    "zf = np.linspace(0, 200)\n",
    "xx, zz = np.meshgrid(xf, zf)\n",
    "\n",
    "xx_new = xx.flatten()[:, np.newaxis]\n",
    "zz_new = zz.flatten()[:, np.newaxis]\n",
    "\n",
    "Xfit = np.concatenate((xx_new, zz_new), axis=-1)\n",
    "yfit = model.predict(Xfit)\n",
    "yfit = yfit[:, np.newaxis].reshape(xx.shape[0], xx.shape[1])\n",
    "\n",
    "fig = plt.figure()\n",
    "ax = plt.axes(projection='3d')\n",
    "ax.scatter3D(x, z, y)\n",
    "ax.plot_surface(xx, zz, yfit, color='red')\n",
    "ax.set_xlabel('Attack')\n",
    "ax.set_ylabel('Defense')\n",
    "ax.set_zlabel('HP')\n",
    "\n",
    "plt.show()"
   ]
  },
  {
   "attachments": {},
   "cell_type": "markdown",
   "metadata": {},
   "source": [
    "**5) Using the fitted Linear Regression model, predict the values of the target variable 'HP' in the training and test sets.**"
   ]
  },
  {
   "cell_type": "code",
   "execution_count": 17,
   "metadata": {},
   "outputs": [],
   "source": [
    "y_pred_train = model.predict(X_train)\n",
    "y_pred_test = model.predict(X_test)"
   ]
  },
  {
   "attachments": {},
   "cell_type": "markdown",
   "metadata": {},
   "source": [
    "**6) For both the training and test sets, evaluate the model's predictions using the Mean Squared Error (MSE). What do you observe ?**"
   ]
  },
  {
   "cell_type": "code",
   "execution_count": 18,
   "metadata": {
    "colab": {
     "base_uri": "https://localhost:8080/"
    },
    "id": "qCTnZI0vgrw4",
    "outputId": "9ff030de-b4e0-4425-d4f5-586d733e3ec9"
   },
   "outputs": [
    {
     "name": "stdout",
     "output_type": "stream",
     "text": [
      "MSE on training set : 480.61815354573235\n",
      "MSE on test set : 747.8547312682159\n"
     ]
    }
   ],
   "source": [
    "MSE_train = mean_squared_error(y_train, y_pred_train)\n",
    "MSE_test = mean_squared_error(y_test, y_pred_test)\n",
    "\n",
    "print(f'MSE on training set : {MSE_train}')\n",
    "print(f'MSE on test set : {MSE_test}')"
   ]
  },
  {
   "attachments": {},
   "cell_type": "markdown",
   "metadata": {},
   "source": [
    "The test error is greater than the training error. This is an expected behaviour as the model didn't get access to the test data during training. "
   ]
  },
  {
   "attachments": {},
   "cell_type": "markdown",
   "metadata": {},
   "source": [
    "**7) Consider the variable 'Generation' as additional predictor. What is the data type of this variable, and how would you treat it ?**"
   ]
  },
  {
   "attachments": {},
   "cell_type": "markdown",
   "metadata": {},
   "source": [
    "**7.1) Retrieve the categories of the variable 'Generation'.**"
   ]
  },
  {
   "cell_type": "code",
   "execution_count": 25,
   "metadata": {},
   "outputs": [
    {
     "name": "stdout",
     "output_type": "stream",
     "text": [
      "Int64Index([1, 2, 3, 4, 5, 6], dtype='int64')\n"
     ]
    }
   ],
   "source": [
    "# 'Generation' is a categorical variable, so we cannot feed it 'as is' to the model. \n",
    "# We'll use the OneHotEncoder class to preprocess it, which will create a new binary variable \n",
    "# (also called 'dummy variable') for each of the K categories of 'Generation'.\n",
    "\n",
    "print(df['Generation'].cat.categories)\n",
    "\n",
    "# Here, 'Generation' possesses 6 categories, so the one-hot-encoding will create 6 binary variables. \n",
    "# For each dummy variable, a '1' means that the observation belongs to that category, while a '0' \n",
    "# means it does not. Note that as each observation belongs to a single category, only 1 of the 6 \n",
    "# dummy variables will take on the value '1', while the rest will be '0's."
   ]
  },
  {
   "attachments": {},
   "cell_type": "markdown",
   "metadata": {},
   "source": [
    "**7.2) Create a variable 'X' containing the predictors 'Attack', 'Defense', and 'Generation', and a variable 'y' containing the target variable 'HP'.**"
   ]
  },
  {
   "cell_type": "code",
   "execution_count": 26,
   "metadata": {},
   "outputs": [],
   "source": [
    "X = df[['Attack', 'Defense', 'Generation']]\n",
    "y = df[['HP']]"
   ]
  },
  {
   "attachments": {},
   "cell_type": "markdown",
   "metadata": {},
   "source": [
    "**7.3) Split the dataset intro training and test sets following a 80/20 partition.**"
   ]
  },
  {
   "cell_type": "code",
   "execution_count": 27,
   "metadata": {},
   "outputs": [],
   "source": [
    "X_train, X_test, y_train, y_test = train_test_split(\n",
    "    X, y, train_size=0.8, test_size=0.2, shuffle=True, random_state=0\n",
    ")"
   ]
  },
  {
   "attachments": {},
   "cell_type": "markdown",
   "metadata": {},
   "source": [
    "**7.4) Create a 'One Hot Encoding' for each category of the variable 'Generation'. The one-hot-encoder should be fit exclusively to the training set, while the test set should only be transformed. \n",
    "Look up the class OneHotEncoder of Scikit-Learn, as well as the methods 'fit_transform' and 'transform'. Make sure to drop the first category and to ignore unknown category in the test set.**"
   ]
  },
  {
   "cell_type": "code",
   "execution_count": 28,
   "metadata": {},
   "outputs": [
    {
     "name": "stdout",
     "output_type": "stream",
     "text": [
      "[[1. 0. 0. 0. 0.]\n",
      " [0. 0. 0. 0. 0.]\n",
      " [0. 0. 0. 0. 0.]\n",
      " ...\n",
      " [0. 0. 0. 1. 0.]\n",
      " [0. 0. 0. 1. 0.]\n",
      " [0. 0. 0. 1. 0.]]\n",
      "(640, 7)\n",
      "(160, 7)\n"
     ]
    }
   ],
   "source": [
    "ohe = OneHotEncoder(drop='first')\n",
    "\n",
    "## We drop the first category as it can be uniquely retrieved from the other 5. \n",
    "\n",
    "X_train_cat = ohe.fit_transform(X_train[['Generation']])\n",
    "X_train_cat = pd.DataFrame(X_train_cat.toarray())\n",
    "\n",
    "\n",
    "X_train.reset_index(drop=True, inplace=True)\n",
    "X_train = pd.concat([X_train[['Attack', 'Defense']], X_train_cat], axis=1)\n",
    "\n",
    "X_test_cat = ohe.transform(X_test[['Generation']])\n",
    "X_test_cat = pd.DataFrame(X_test_cat.toarray())\n",
    "\n",
    "X_test.reset_index(drop=True, inplace=True)\n",
    "X_test = pd.concat([X_test[['Attack', 'Defense']], X_test_cat], axis=1)\n",
    "\n",
    "## Check that we have 7 columns in X_train and X_test\n",
    "\n",
    "print(X_train.shape)\n",
    "print(X_test.shape)"
   ]
  },
  {
   "attachments": {},
   "cell_type": "markdown",
   "metadata": {},
   "source": [
    "Any pre-processing step must be fitted to the training data only, as it would otherwise result in data leakage (i.e. the model having access to information contained in the test set during training). Once it is fitted to the training set, it can be then applied to the test set. \n",
    "\n",
    "If you were to replace missing values with a column statistic (i.e. mean, media, max, min, etc...), this comment holds. As in our case we decided to replace the missing 'Type 2' values by their associated 'Type 1' values, we do not risk introducing data leakage, so the operation was applied to the entire dataset.  "
   ]
  },
  {
   "attachments": {},
   "cell_type": "markdown",
   "metadata": {},
   "source": [
    "**7.4) Fit the Linear Regression model to the training set, and get the model's coefficients. How does the model write now ?**"
   ]
  },
  {
   "cell_type": "code",
   "execution_count": null,
   "metadata": {},
   "outputs": [],
   "source": [
    "model.fit(X_train, y_train)\n",
    "coef = model.coef_\n",
    "intercept = model.intercept_\n",
    "\n",
    "print(f'Model\\'s coefficients: {coef}')\n",
    "print(f'Model\\'s intercept: {intercept}')"
   ]
  },
  {
   "attachments": {},
   "cell_type": "markdown",
   "metadata": {},
   "source": [
    "The model now writes $\\hat{\\text{HP}} = 35.95 + 0.30~\\text{Attack} + 0.08~\\text{Defense} + 6.23~G_2 + 0.65~G_3 + 5.69~G_4 + 4.52~G_5 + 1.17 ~G_6$, where $G_i$ is the dummy variable associated to Generation $i$. "
   ]
  },
  {
   "attachments": {},
   "cell_type": "markdown",
   "metadata": {},
   "source": [
    "**7.5) Predict the MSE on the training and test sets.**"
   ]
  },
  {
   "cell_type": "code",
   "execution_count": null,
   "metadata": {},
   "outputs": [],
   "source": [
    "y_pred_train = model.predict(X_train)\n",
    "y_pred_test = model.predict(X_test)\n",
    "\n",
    "MSE_train = mean_squared_error(y_train, y_pred_train)\n",
    "MSE_test = mean_squared_error(y_test, y_pred_test)\n",
    "\n",
    "print(f'MSE on training set: {MSE_train}')\n",
    "print(f'MSE on test set: {MSE_test}')"
   ]
  },
  {
   "attachments": {},
   "cell_type": "markdown",
   "metadata": {},
   "source": [
    "## Classification Task with a KNN classifier."
   ]
  },
  {
   "cell_type": "markdown",
   "metadata": {},
   "source": [
    "**8) Plot two scatter plots with:**\n",
    "- **'Attack' on the x-axis, 'HP' on the y-axis'.**\n",
    "- **'Attack' on the x-axis, 'Defense' on the y-axis.**\n",
    "\n",
    "**Indicate legendary and non-legendary Pokemons with a color. What do you observe?**"
   ]
  },
  {
   "cell_type": "markdown",
   "metadata": {},
   "source": [
    "**9) Use the `KNeighborsClassifier` class of scikit-learn with 5 neighbors to predict whether a Pokemon is legendary or not, using the variables 'Attack', 'Defense', and 'HP' as features. To this end, apply the following steps:**\n",
    "- **Select the features and the target variable. Make sure that the data type of 'Legendary' is set to 'int'.**\n",
    "- **Split your dataset into a training and test set following a 80%/20% partition.**\n",
    "- **Fit the model to the training set, and predict the variable 'Legendary' on the training and test sets.**"
   ]
  },
  {
   "cell_type": "markdown",
   "metadata": {},
   "source": [
    "**10) Compute the accuracy score of the model's predictions on the training and test sets using the function `accuracy_score`.** "
   ]
  },
  {
   "attachments": {},
   "cell_type": "markdown",
   "metadata": {},
   "source": [
    "**11) Look at the distribution of the variable 'Legendary' in the training and test dataset using `sns.countplot`. What do you observe?**"
   ]
  },
  {
   "attachments": {},
   "cell_type": "markdown",
   "metadata": {},
   "source": [
    "**12) Get the confusion matrix of the predictions on the test set using the `confusion_matrix` function. What do you observe and how do you link your observations to the accuracy of the model?**"
   ]
  }
 ],
 "metadata": {
  "colab": {
   "name": "Lab3_solutions.ipynb",
   "provenance": []
  },
  "kernelspec": {
   "display_name": "base",
   "language": "python",
   "name": "python3"
  },
  "language_info": {
   "codemirror_mode": {
    "name": "ipython",
    "version": 3
   },
   "file_extension": ".py",
   "mimetype": "text/x-python",
   "name": "python",
   "nbconvert_exporter": "python",
   "pygments_lexer": "ipython3",
   "version": "3.8.8"
  },
  "vscode": {
   "interpreter": {
    "hash": "bfe0e2b9b67a2fcef00021a1d2a516837bff30cf713e434b27f739f4afd30381"
   }
  }
 },
 "nbformat": 4,
 "nbformat_minor": 0
}
