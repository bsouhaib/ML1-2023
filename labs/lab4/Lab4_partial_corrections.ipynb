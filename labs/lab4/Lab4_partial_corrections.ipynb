{
 "cells": [
  {
   "cell_type": "markdown",
   "metadata": {},
   "source": [
    "# Machine Learning 2022-2023 - UMONS"
   ]
  },
  {
   "cell_type": "markdown",
   "metadata": {},
   "source": [
    "# Model selection using scikit-learn"
   ]
  },
  {
   "attachments": {},
   "cell_type": "markdown",
   "metadata": {
    "id": "H3g2zh1W2t_c"
   },
   "source": [
    "**During the last lab, we learned how to fit a simple model to a single or multiple features to predict a given target variable. However, by fixing the number of features and by fixing the model's hyperparameters beforehand, we restricted ourselves to a single model. By doing so, we omitted to explore a broader range of models, one of which might better explain the relationship between our input and target variables.**\n",
    "\n",
    "**In this lab, we'll experiment with the general methodology of model selection, meaning that we'll define a set of predefined models, and we'll retain the one that minimizes the out-of-sample error.**"
   ]
  },
  {
   "attachments": {},
   "cell_type": "markdown",
   "metadata": {
    "id": "1U5VE1l3YtKA"
   },
   "source": [
    "**Import the necessary libraries**"
   ]
  },
  {
   "cell_type": "code",
   "execution_count": 1,
   "metadata": {
    "id": "zkt8eCSmYkbz"
   },
   "outputs": [],
   "source": [
    "import matplotlib.pyplot as plt\n",
    "import numpy as np\n",
    "import pandas as pd\n",
    "import seaborn as sns\n",
    "from sklearn.feature_selection import SequentialFeatureSelector\n",
    "from sklearn.impute import SimpleImputer\n",
    "from sklearn.linear_model import LinearRegression\n",
    "from sklearn.metrics import mean_squared_error, r2_score\n",
    "from sklearn.model_selection import GridSearchCV, cross_validate, train_test_split\n",
    "from sklearn.pipeline import make_pipeline\n",
    "from sklearn.preprocessing import PolynomialFeatures, OneHotEncoder"
   ]
  },
  {
   "attachments": {},
   "cell_type": "markdown",
   "metadata": {
    "id": "I_O6yz5QY8bH"
   },
   "source": [
    "**1) In this lab, we will work with the [Fish market](https://www.kaggle.com/datasets/aungpyaeap/fish-market) dataset, which contains several characteristics about fish, such as their weights, lengths, and species. Load the dataset as a Pandas dataframe, inspect its properties and check for any missing values. Change the data type of 'Species' to 'category'.**"
   ]
  },
  {
   "cell_type": "code",
   "execution_count": 2,
   "metadata": {},
   "outputs": [
    {
     "name": "stdout",
     "output_type": "stream",
     "text": [
      "Species    category\n",
      "Weight      float64\n",
      "Length1     float64\n",
      "Length2     float64\n",
      "Length3     float64\n",
      "Height      float64\n",
      "Width       float64\n",
      "dtype: object\n",
      "Species     5\n",
      "Weight      8\n",
      "Length1     7\n",
      "Length2    12\n",
      "Length3     3\n",
      "Height      0\n",
      "Width       5\n",
      "dtype: int64\n"
     ]
    },
    {
     "data": {
      "text/html": [
       "<div>\n",
       "<style scoped>\n",
       "    .dataframe tbody tr th:only-of-type {\n",
       "        vertical-align: middle;\n",
       "    }\n",
       "\n",
       "    .dataframe tbody tr th {\n",
       "        vertical-align: top;\n",
       "    }\n",
       "\n",
       "    .dataframe thead th {\n",
       "        text-align: right;\n",
       "    }\n",
       "</style>\n",
       "<table border=\"1\" class=\"dataframe\">\n",
       "  <thead>\n",
       "    <tr style=\"text-align: right;\">\n",
       "      <th></th>\n",
       "      <th>Species</th>\n",
       "      <th>Weight</th>\n",
       "      <th>Length1</th>\n",
       "      <th>Length2</th>\n",
       "      <th>Length3</th>\n",
       "      <th>Height</th>\n",
       "      <th>Width</th>\n",
       "    </tr>\n",
       "  </thead>\n",
       "  <tbody>\n",
       "    <tr>\n",
       "      <th>0</th>\n",
       "      <td>Bream</td>\n",
       "      <td>242.0</td>\n",
       "      <td>23.2</td>\n",
       "      <td>25.4</td>\n",
       "      <td>30.0</td>\n",
       "      <td>11.5200</td>\n",
       "      <td>4.0200</td>\n",
       "    </tr>\n",
       "    <tr>\n",
       "      <th>1</th>\n",
       "      <td>Bream</td>\n",
       "      <td>290.0</td>\n",
       "      <td>24.0</td>\n",
       "      <td>26.3</td>\n",
       "      <td>31.2</td>\n",
       "      <td>12.4800</td>\n",
       "      <td>4.3056</td>\n",
       "    </tr>\n",
       "    <tr>\n",
       "      <th>2</th>\n",
       "      <td>Bream</td>\n",
       "      <td>340.0</td>\n",
       "      <td>23.9</td>\n",
       "      <td>26.5</td>\n",
       "      <td>31.1</td>\n",
       "      <td>12.3778</td>\n",
       "      <td>4.6961</td>\n",
       "    </tr>\n",
       "    <tr>\n",
       "      <th>3</th>\n",
       "      <td>Bream</td>\n",
       "      <td>363.0</td>\n",
       "      <td>26.3</td>\n",
       "      <td>29.0</td>\n",
       "      <td>33.5</td>\n",
       "      <td>12.7300</td>\n",
       "      <td>4.4555</td>\n",
       "    </tr>\n",
       "    <tr>\n",
       "      <th>4</th>\n",
       "      <td>Bream</td>\n",
       "      <td>430.0</td>\n",
       "      <td>26.5</td>\n",
       "      <td>29.0</td>\n",
       "      <td>34.0</td>\n",
       "      <td>12.4440</td>\n",
       "      <td>5.1340</td>\n",
       "    </tr>\n",
       "  </tbody>\n",
       "</table>\n",
       "</div>"
      ],
      "text/plain": [
       "  Species  Weight  Length1  Length2  Length3   Height   Width\n",
       "0   Bream   242.0     23.2     25.4     30.0  11.5200  4.0200\n",
       "1   Bream   290.0     24.0     26.3     31.2  12.4800  4.3056\n",
       "2   Bream   340.0     23.9     26.5     31.1  12.3778  4.6961\n",
       "3   Bream   363.0     26.3     29.0     33.5  12.7300  4.4555\n",
       "4   Bream   430.0     26.5     29.0     34.0  12.4440  5.1340"
      ]
     },
     "execution_count": 2,
     "metadata": {},
     "output_type": "execute_result"
    }
   ],
   "source": [
    "df = pd.read_csv('data/fish_lab.csv', index_col=0)\n",
    "df = df.astype({'Species': 'category'})\n",
    "print(df.dtypes)\n",
    "print(df.isna().sum())\n",
    "df.head()"
   ]
  },
  {
   "attachments": {},
   "cell_type": "markdown",
   "metadata": {
    "id": "ARI4jGJDZ24R"
   },
   "source": [
    "**2) Does the dataframe contain any missing values ? If yes, replace the missing values by the sample mean for continuous variables. For missing categorical variables, replace them by the most frequent occurence of the corresponding column. You can use the `SimpleImputer` class of scikit-learn.**"
   ]
  },
  {
   "cell_type": "code",
   "execution_count": 3,
   "metadata": {},
   "outputs": [
    {
     "name": "stdout",
     "output_type": "stream",
     "text": [
      "Species    0\n",
      "Weight     0\n",
      "Length1    0\n",
      "Length2    0\n",
      "Length3    0\n",
      "Height     0\n",
      "Width      0\n",
      "dtype: int64\n"
     ]
    }
   ],
   "source": [
    "imp_cont = SimpleImputer(missing_values=np.nan, strategy='mean')\n",
    "imp_cat = SimpleImputer(missing_values=np.nan, strategy='most_frequent')\n",
    "\n",
    "cat_columns = df.select_dtypes(include=['category']).columns\n",
    "cont_columns = df.select_dtypes(exclude=['category']).columns\n",
    "\n",
    "df[cat_columns] = imp_cat.fit_transform(df[cat_columns])\n",
    "df[cont_columns] = imp_cont.fit_transform(df[cont_columns])\n",
    "\n",
    "print(df.isna().sum())"
   ]
  },
  {
   "attachments": {},
   "cell_type": "markdown",
   "metadata": {},
   "source": [
    "**3) As in the previous lab, create a one-hot-encoding of the categorical variable using the `OneHotEncoder` class.** "
   ]
  },
  {
   "cell_type": "code",
   "execution_count": 4,
   "metadata": {},
   "outputs": [
    {
     "name": "stdout",
     "output_type": "stream",
     "text": [
      "Index(['Parkki', 'Perch', 'Pike', 'Roach', 'Smelt', 'Whitefish', 'Weight',\n",
      "       'Length1', 'Length2', 'Length3', 'Height', 'Width'],\n",
      "      dtype='object')\n"
     ]
    }
   ],
   "source": [
    "ohe = OneHotEncoder(drop='first')\n",
    "dummies = ohe.fit_transform(df[['Species']])\n",
    "dummies = pd.DataFrame(dummies.toarray())\n",
    "dummies.columns = ohe.categories_[0][1:]\n",
    "\n",
    "# Alternative to the above 4 lines:\n",
    "# dummies = pd.get_dummies(df['Species'], drop_first=True)\n",
    "\n",
    "df = df.drop('Species', axis=1)\n",
    "df = pd.concat([dummies, df], axis=1)\n",
    "print(df.columns)"
   ]
  },
  {
   "attachments": {},
   "cell_type": "markdown",
   "metadata": {},
   "source": [
    "**4) We will start by predicting the target 'Height' from the feature 'Weight'. Split your datasets into a training and test set following a 60/40 partition using the `train_test_split` function. Then generate a scatter plot of the two variables.**"
   ]
  },
  {
   "cell_type": "code",
   "execution_count": 5,
   "metadata": {},
   "outputs": [
    {
     "data": {
      "text/plain": [
       "<AxesSubplot:xlabel='Weight', ylabel='Height'>"
      ]
     },
     "execution_count": 5,
     "metadata": {},
     "output_type": "execute_result"
    },
    {
     "data": {
      "image/png": "[encoded data removed]",
      "text/plain": [
       "<Figure size 640x480 with 1 Axes>"
      ]
     },
     "metadata": {},
     "output_type": "display_data"
    }
   ],
   "source": [
    "X = df[['Weight']]\n",
    "y = df[['Height']]\n",
    "\n",
    "X_train, X_test, y_train, y_test = train_test_split(\n",
    "    X, y, train_size=0.6, test_size=0.4, shuffle=True, random_state=0\n",
    ")\n",
    "\n",
    "sns.scatterplot(x=X_train['Weight'], y=y_train['Height'])"
   ]
  },
  {
   "attachments": {},
   "cell_type": "markdown",
   "metadata": {
    "id": "U_PEwHV0f14c"
   },
   "source": [
    "**5) We can see that a linear model would not be the best option to model the relationship between these variables. Instead of fitting a linear model, let's fit a polynomial model of specified degree.**\n",
    "\n",
    "- **Create your model using `PolynomialRegression` with `degree=2` and make sure to understand what the `make_pipeline` method does.**\n",
    "- **Fit your model with 10-fold cross-validation using the `cross_validate` function.**\n",
    "- **Report the mean of the test MSE across each folds based on the result of `cross_validate`.**"
   ]
  },
  {
   "cell_type": "code",
   "execution_count": 6,
   "metadata": {},
   "outputs": [],
   "source": [
    "def PolynomialRegression(degree=2, **kwargs):\n",
    "    return make_pipeline(PolynomialFeatures(degree), LinearRegression(**kwargs))"
   ]
  },
  {
   "cell_type": "code",
   "execution_count": 7,
   "metadata": {
    "colab": {
     "base_uri": "https://localhost:8080/"
    },
    "id": "o1a-6zXngJgZ",
    "outputId": "6da8ea7c-de9e-402b-8414-53c4e1062508"
   },
   "outputs": [
    {
     "name": "stdout",
     "output_type": "stream",
     "text": [
      "Test MSE for a polynomial model of degree 2: 7.242962800789426\n"
     ]
    }
   ],
   "source": [
    "model = PolynomialRegression(2, fit_intercept=True)\n",
    "cv_results = cross_validate(model, X_train, y_train, cv=10, scoring=['neg_mean_squared_error'])\n",
    "\n",
    "test_mse = -cv_results['test_neg_mean_squared_error'].mean()\n",
    "print(f'Test MSE for a polynomial model of degree 2: {test_mse}')"
   ]
  },
  {
   "attachments": {},
   "cell_type": "markdown",
   "metadata": {
    "id": "aZm20YCJjb2j"
   },
   "source": [
    "**6) Let's now see how predictions vary with the model complexity. For polynomial degrees between 1 and 5, repeatedly fit the polynomial regression model (without cross-validation) and plot the predictions of 'Height' in function of the feature 'Weight'.**"
   ]
  },
  {
   "attachments": {},
   "cell_type": "markdown",
   "metadata": {},
   "source": [
    "**7) Plot the evolution of the train and test MSE of the 5 models from the previous question in function of the polynomial degree. What do you observe?**"
   ]
  },
  {
   "attachments": {},
   "cell_type": "markdown",
   "metadata": {},
   "source": [
    "**8) In the rest of this lab, we will predict the target 'Height' based on all available features. Split again your dataset into a training and test set following a 60/40 partition using the `train_test_split` function.**"
   ]
  },
  {
   "attachments": {},
   "cell_type": "markdown",
   "metadata": {},
   "source": [
    "**9) Usually, models have more than one hyperparameter that can be tuned in order to find the model that best captures the relationship between our input and target variables. For instance, in the case of a simple linear regression using a polynomial transformation on the input variables, the hyperparameter space would be the polymial's degree, and whether or not to fit the intercept. Inspecting each combination of hyperparameters and selecting the combination that results in the best model is called grid search. However, manually inspecting each combination could be a very tedious task, but fortunatly, scikit-learn provides a class `GridSearchCV()` that implements this protocol for you.**\n",
    "\n",
    "**Select all features and 'Height' as target variable, and perform a grid search on the hyperparameter space of a polynomial regression model. Search for degrees varying between 1 and 5, and whether or not the intercept should be fit. Report the best hyperparameters and the corresponding MSE.**"
   ]
  },
  {
   "attachments": {},
   "cell_type": "markdown",
   "metadata": {},
   "source": [
    "**10) Finally, fit a model using the best hyperparameters on the full training dataset and report the MSE.**"
   ]
  }
 ],
 "metadata": {
  "colab": {
   "name": "Lab4_solutions.ipynb",
   "provenance": []
  },
  "kernelspec": {
   "display_name": "Python 3",
   "name": "python3"
  },
  "language_info": {
   "codemirror_mode": {
    "name": "ipython",
    "version": 3
   },
   "file_extension": ".py",
   "mimetype": "text/x-python",
   "name": "python",
   "nbconvert_exporter": "python",
   "pygments_lexer": "ipython3",
   "version": "3.9.12"
  }
 },
 "nbformat": 4,
 "nbformat_minor": 0
}
